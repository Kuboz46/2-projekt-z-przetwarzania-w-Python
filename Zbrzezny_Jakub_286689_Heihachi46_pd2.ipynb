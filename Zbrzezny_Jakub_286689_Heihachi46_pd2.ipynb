{
 "cells": [
  {
   "cell_type": "markdown",
   "metadata": {},
   "source": [
    "# Praca domowa 2\n",
    "# 20.12.2020 r.\n",
    "\n",
    "# Jakub Zbrzezny\n",
    "# Nr indeksu: 286689\n",
    "# Nick do publikowania wyników: Heihachi46"
   ]
  },
  {
   "cell_type": "markdown",
   "metadata": {},
   "source": [
    "## Przygotowanie danych"
   ]
  },
  {
   "cell_type": "code",
   "execution_count": 590,
   "metadata": {},
   "outputs": [],
   "source": [
    "import pandas as pd\n",
    "import numpy as np"
   ]
  },
  {
   "cell_type": "code",
   "execution_count": 591,
   "metadata": {},
   "outputs": [],
   "source": [
    "Badges = pd.read_csv(\"Badges.csv\")\n",
    "Comments = pd.read_csv(\"Comments.csv\")\n",
    "PostLinks = pd.read_csv(\"PostLinks.csv\")\n",
    "Posts = pd.read_csv(\"Posts.csv\")\n",
    "Tags = pd.read_csv(\"Tags.csv\")\n",
    "Users = pd.read_csv(\"Users.csv\")\n",
    "Votes = pd.read_csv(\"Votes.csv\")"
   ]
  },
  {
   "cell_type": "code",
   "execution_count": 592,
   "metadata": {},
   "outputs": [],
   "source": [
    "import os, os.path\n",
    "import sqlite3\n",
    "import tempfile\n",
    "\n",
    "# Ścieżka dostępu do bazy danych:\n",
    "baza = os.path.join(tempfile.mkdtemp(), 'Moja_baza.db')\n",
    "if os.path.isfile(baza): # Jeśli baza już istnieje...\n",
    "    os.remove(baza)      # ...usunę ją.\n",
    "    \n",
    "conn = sqlite3.connect(baza)      # Połączenie do bazy danych.\n",
    "\n",
    "Badges.to_sql(\"Badges\", conn)     # Importuję ramkę danych do bazy danych.\n",
    "Comments.to_sql(\"Comments\", conn)\n",
    "PostLinks.to_sql(\"PostLinks\", conn)\n",
    "Posts.to_sql(\"Posts\", conn)\n",
    "Tags.to_sql(\"Tags\", conn)\n",
    "Users.to_sql(\"Users\", conn)\n",
    "Votes.to_sql(\"Votes\", conn)"
   ]
  },
  {
   "cell_type": "markdown",
   "metadata": {},
   "source": [
    "## Rozwiązania zadań"
   ]
  },
  {
   "cell_type": "markdown",
   "metadata": {},
   "source": [
    "### Zadanie 1"
   ]
  },
  {
   "cell_type": "markdown",
   "metadata": {},
   "source": [
    "#### a) Zapytanie SQL"
   ]
  },
  {
   "cell_type": "code",
   "execution_count": 593,
   "metadata": {},
   "outputs": [],
   "source": [
    "wyn_sql_1 = pd.read_sql_query(\"\"\"\n",
    "SELECT Posts.Title, RelatedTab.NumLinks\n",
    "FROM\n",
    "    (SELECT RelatedPostId AS PostId, COUNT(*) AS NumLinks\n",
    "     FROM PostLinks\n",
    "     GROUP BY RelatedPostId) AS RelatedTab\n",
    "JOIN Posts ON RelatedTab.PostId = Posts.Id\n",
    "WHERE Posts.PostTypeId = 1\n",
    "ORDER BY NumLinks DESC\n",
    "\"\"\", conn)"
   ]
  },
  {
   "cell_type": "code",
   "execution_count": 594,
   "metadata": {},
   "outputs": [
    {
     "data": {
      "text/html": [
       "<div>\n",
       "<style scoped>\n",
       "    .dataframe tbody tr th:only-of-type {\n",
       "        vertical-align: middle;\n",
       "    }\n",
       "\n",
       "    .dataframe tbody tr th {\n",
       "        vertical-align: top;\n",
       "    }\n",
       "\n",
       "    .dataframe thead th {\n",
       "        text-align: right;\n",
       "    }\n",
       "</style>\n",
       "<table border=\"1\" class=\"dataframe\">\n",
       "  <thead>\n",
       "    <tr style=\"text-align: right;\">\n",
       "      <th></th>\n",
       "      <th>Title</th>\n",
       "      <th>NumLinks</th>\n",
       "    </tr>\n",
       "  </thead>\n",
       "  <tbody>\n",
       "    <tr>\n",
       "      <th>0</th>\n",
       "      <td>Is there a way to find out if I need a transit...</td>\n",
       "      <td>594</td>\n",
       "    </tr>\n",
       "    <tr>\n",
       "      <th>1</th>\n",
       "      <td>Do I need a visa to transit (or layover) in th...</td>\n",
       "      <td>585</td>\n",
       "    </tr>\n",
       "    <tr>\n",
       "      <th>2</th>\n",
       "      <td>Should my first trip be to the country which i...</td>\n",
       "      <td>331</td>\n",
       "    </tr>\n",
       "    <tr>\n",
       "      <th>3</th>\n",
       "      <td>Should I submit bank statements when applying ...</td>\n",
       "      <td>259</td>\n",
       "    </tr>\n",
       "    <tr>\n",
       "      <th>4</th>\n",
       "      <td>How much electronics and other valuables can I...</td>\n",
       "      <td>197</td>\n",
       "    </tr>\n",
       "    <tr>\n",
       "      <th>5</th>\n",
       "      <td>How does the Schengen 90/180 rule work?</td>\n",
       "      <td>192</td>\n",
       "    </tr>\n",
       "    <tr>\n",
       "      <th>6</th>\n",
       "      <td>Do I need a US visa to transit (or layover) th...</td>\n",
       "      <td>165</td>\n",
       "    </tr>\n",
       "    <tr>\n",
       "      <th>7</th>\n",
       "      <td>I have two passports/nationalities. How do I u...</td>\n",
       "      <td>146</td>\n",
       "    </tr>\n",
       "    <tr>\n",
       "      <th>8</th>\n",
       "      <td>Schengen Visa Refusal: Justification for the p...</td>\n",
       "      <td>111</td>\n",
       "    </tr>\n",
       "    <tr>\n",
       "      <th>9</th>\n",
       "      <td>Can I visit Schengen countries on a Type-D Sch...</td>\n",
       "      <td>96</td>\n",
       "    </tr>\n",
       "    <tr>\n",
       "      <th>10</th>\n",
       "      <td>When traveling to a country with a different c...</td>\n",
       "      <td>94</td>\n",
       "    </tr>\n",
       "    <tr>\n",
       "      <th>11</th>\n",
       "      <td>How can I do a \"broad\" search for flights?</td>\n",
       "      <td>93</td>\n",
       "    </tr>\n",
       "    <tr>\n",
       "      <th>12</th>\n",
       "      <td>UK Visa Refusal: Provenance of funds/parking</td>\n",
       "      <td>89</td>\n",
       "    </tr>\n",
       "    <tr>\n",
       "      <th>13</th>\n",
       "      <td>Does a multiple-entry Schengen visa allow visi...</td>\n",
       "      <td>78</td>\n",
       "    </tr>\n",
       "    <tr>\n",
       "      <th>14</th>\n",
       "      <td>Does the 90 days VWP rule ever expire if you t...</td>\n",
       "      <td>73</td>\n",
       "    </tr>\n",
       "    <tr>\n",
       "      <th>15</th>\n",
       "      <td>Do you have to take the second leg of a domest...</td>\n",
       "      <td>68</td>\n",
       "    </tr>\n",
       "    <tr>\n",
       "      <th>16</th>\n",
       "      <td>UK visa refusal on V 4.2 a + c (and sometimes ...</td>\n",
       "      <td>58</td>\n",
       "    </tr>\n",
       "    <tr>\n",
       "      <th>17</th>\n",
       "      <td>Do I need a Turkey transit visa for a layover?</td>\n",
       "      <td>57</td>\n",
       "    </tr>\n",
       "    <tr>\n",
       "      <th>18</th>\n",
       "      <td>Is there a way to find out if I need a transit...</td>\n",
       "      <td>53</td>\n",
       "    </tr>\n",
       "    <tr>\n",
       "      <th>19</th>\n",
       "      <td>Do I need a transit visa for a layover via Dub...</td>\n",
       "      <td>52</td>\n",
       "    </tr>\n",
       "  </tbody>\n",
       "</table>\n",
       "</div>"
      ],
      "text/plain": [
       "                                                Title  NumLinks\n",
       "0   Is there a way to find out if I need a transit...       594\n",
       "1   Do I need a visa to transit (or layover) in th...       585\n",
       "2   Should my first trip be to the country which i...       331\n",
       "3   Should I submit bank statements when applying ...       259\n",
       "4   How much electronics and other valuables can I...       197\n",
       "5             How does the Schengen 90/180 rule work?       192\n",
       "6   Do I need a US visa to transit (or layover) th...       165\n",
       "7   I have two passports/nationalities. How do I u...       146\n",
       "8   Schengen Visa Refusal: Justification for the p...       111\n",
       "9   Can I visit Schengen countries on a Type-D Sch...        96\n",
       "10  When traveling to a country with a different c...        94\n",
       "11         How can I do a \"broad\" search for flights?        93\n",
       "12       UK Visa Refusal: Provenance of funds/parking        89\n",
       "13  Does a multiple-entry Schengen visa allow visi...        78\n",
       "14  Does the 90 days VWP rule ever expire if you t...        73\n",
       "15  Do you have to take the second leg of a domest...        68\n",
       "16  UK visa refusal on V 4.2 a + c (and sometimes ...        58\n",
       "17     Do I need a Turkey transit visa for a layover?        57\n",
       "18  Is there a way to find out if I need a transit...        53\n",
       "19  Do I need a transit visa for a layover via Dub...        52"
      ]
     },
     "execution_count": 594,
     "metadata": {},
     "output_type": "execute_result"
    }
   ],
   "source": [
    "wyn_sql_1.head(20)"
   ]
  },
  {
   "cell_type": "markdown",
   "metadata": {},
   "source": [
    "#### b) Rozwiązanie z pakietu \"pandas\""
   ]
  },
  {
   "cell_type": "code",
   "execution_count": 595,
   "metadata": {},
   "outputs": [
    {
     "data": {
      "text/html": [
       "<div>\n",
       "<style scoped>\n",
       "    .dataframe tbody tr th:only-of-type {\n",
       "        vertical-align: middle;\n",
       "    }\n",
       "\n",
       "    .dataframe tbody tr th {\n",
       "        vertical-align: top;\n",
       "    }\n",
       "\n",
       "    .dataframe thead th {\n",
       "        text-align: right;\n",
       "    }\n",
       "</style>\n",
       "<table border=\"1\" class=\"dataframe\">\n",
       "  <thead>\n",
       "    <tr style=\"text-align: right;\">\n",
       "      <th></th>\n",
       "      <th>PostId</th>\n",
       "      <th>NumLinks</th>\n",
       "    </tr>\n",
       "  </thead>\n",
       "  <tbody>\n",
       "    <tr>\n",
       "      <th>0</th>\n",
       "      <td>1</td>\n",
       "      <td>1</td>\n",
       "    </tr>\n",
       "    <tr>\n",
       "      <th>1</th>\n",
       "      <td>2</td>\n",
       "      <td>3</td>\n",
       "    </tr>\n",
       "    <tr>\n",
       "      <th>2</th>\n",
       "      <td>6</td>\n",
       "      <td>5</td>\n",
       "    </tr>\n",
       "    <tr>\n",
       "      <th>3</th>\n",
       "      <td>9</td>\n",
       "      <td>1</td>\n",
       "    </tr>\n",
       "    <tr>\n",
       "      <th>4</th>\n",
       "      <td>10</td>\n",
       "      <td>94</td>\n",
       "    </tr>\n",
       "    <tr>\n",
       "      <th>5</th>\n",
       "      <td>11</td>\n",
       "      <td>6</td>\n",
       "    </tr>\n",
       "    <tr>\n",
       "      <th>6</th>\n",
       "      <td>16</td>\n",
       "      <td>10</td>\n",
       "    </tr>\n",
       "    <tr>\n",
       "      <th>7</th>\n",
       "      <td>25</td>\n",
       "      <td>18</td>\n",
       "    </tr>\n",
       "    <tr>\n",
       "      <th>8</th>\n",
       "      <td>26</td>\n",
       "      <td>5</td>\n",
       "    </tr>\n",
       "    <tr>\n",
       "      <th>9</th>\n",
       "      <td>28</td>\n",
       "      <td>1</td>\n",
       "    </tr>\n",
       "  </tbody>\n",
       "</table>\n",
       "</div>"
      ],
      "text/plain": [
       "   PostId  NumLinks\n",
       "0       1         1\n",
       "1       2         3\n",
       "2       6         5\n",
       "3       9         1\n",
       "4      10        94\n",
       "5      11         6\n",
       "6      16        10\n",
       "7      25        18\n",
       "8      26         5\n",
       "9      28         1"
      ]
     },
     "execution_count": 595,
     "metadata": {},
     "output_type": "execute_result"
    }
   ],
   "source": [
    "RelatedTab = pd.DataFrame(PostLinks.groupby(\"RelatedPostId\").apply(len).reset_index().rename(columns = {\"RelatedPostId\":\"PostId\", 0:\"NumLinks\"}))\n",
    "\n",
    "RelatedTab.head(10)"
   ]
  },
  {
   "cell_type": "markdown",
   "metadata": {},
   "source": [
    "#### Interpretacja zapytania dla ramki RelatedTab"
   ]
  },
  {
   "cell_type": "markdown",
   "metadata": {},
   "source": [
    "W ramce RelatedTab, wyświetlamy, ile każdy post ma numlinków."
   ]
  },
  {
   "cell_type": "markdown",
   "metadata": {},
   "source": [
    "#### Ciąg dalszy rozwiązania"
   ]
  },
  {
   "cell_type": "code",
   "execution_count": 596,
   "metadata": {},
   "outputs": [],
   "source": [
    "zlacz_RelTab_Posts = pd.merge(Posts, RelatedTab, left_on = \"Id\", right_on = \"PostId\", how = \"inner\")\n",
    "zlacz_RelTab_Posts = zlacz_RelTab_Posts.loc[zlacz_RelTab_Posts.PostTypeId == 1]\n",
    "\n",
    "# Sortuję malejąco.\n",
    "zlacz_RelTab_Posts = zlacz_RelTab_Posts.sort_values(by = \"NumLinks\", ascending = False)\n",
    "wyn_pandas_1 = zlacz_RelTab_Posts.loc[:, [\"Title\", \"NumLinks\"]].drop_duplicates().reset_index(drop = True)"
   ]
  },
  {
   "cell_type": "code",
   "execution_count": 597,
   "metadata": {},
   "outputs": [
    {
     "data": {
      "text/html": [
       "<div>\n",
       "<style scoped>\n",
       "    .dataframe tbody tr th:only-of-type {\n",
       "        vertical-align: middle;\n",
       "    }\n",
       "\n",
       "    .dataframe tbody tr th {\n",
       "        vertical-align: top;\n",
       "    }\n",
       "\n",
       "    .dataframe thead th {\n",
       "        text-align: right;\n",
       "    }\n",
       "</style>\n",
       "<table border=\"1\" class=\"dataframe\">\n",
       "  <thead>\n",
       "    <tr style=\"text-align: right;\">\n",
       "      <th></th>\n",
       "      <th>Title</th>\n",
       "      <th>NumLinks</th>\n",
       "    </tr>\n",
       "  </thead>\n",
       "  <tbody>\n",
       "    <tr>\n",
       "      <th>0</th>\n",
       "      <td>Is there a way to find out if I need a transit...</td>\n",
       "      <td>594</td>\n",
       "    </tr>\n",
       "    <tr>\n",
       "      <th>1</th>\n",
       "      <td>Do I need a visa to transit (or layover) in th...</td>\n",
       "      <td>585</td>\n",
       "    </tr>\n",
       "    <tr>\n",
       "      <th>2</th>\n",
       "      <td>Should my first trip be to the country which i...</td>\n",
       "      <td>331</td>\n",
       "    </tr>\n",
       "    <tr>\n",
       "      <th>3</th>\n",
       "      <td>Should I submit bank statements when applying ...</td>\n",
       "      <td>259</td>\n",
       "    </tr>\n",
       "    <tr>\n",
       "      <th>4</th>\n",
       "      <td>How much electronics and other valuables can I...</td>\n",
       "      <td>197</td>\n",
       "    </tr>\n",
       "    <tr>\n",
       "      <th>5</th>\n",
       "      <td>How does the Schengen 90/180 rule work?</td>\n",
       "      <td>192</td>\n",
       "    </tr>\n",
       "    <tr>\n",
       "      <th>6</th>\n",
       "      <td>Do I need a US visa to transit (or layover) th...</td>\n",
       "      <td>165</td>\n",
       "    </tr>\n",
       "    <tr>\n",
       "      <th>7</th>\n",
       "      <td>I have two passports/nationalities. How do I u...</td>\n",
       "      <td>146</td>\n",
       "    </tr>\n",
       "    <tr>\n",
       "      <th>8</th>\n",
       "      <td>Schengen Visa Refusal: Justification for the p...</td>\n",
       "      <td>111</td>\n",
       "    </tr>\n",
       "    <tr>\n",
       "      <th>9</th>\n",
       "      <td>Can I visit Schengen countries on a Type-D Sch...</td>\n",
       "      <td>96</td>\n",
       "    </tr>\n",
       "    <tr>\n",
       "      <th>10</th>\n",
       "      <td>When traveling to a country with a different c...</td>\n",
       "      <td>94</td>\n",
       "    </tr>\n",
       "    <tr>\n",
       "      <th>11</th>\n",
       "      <td>How can I do a \"broad\" search for flights?</td>\n",
       "      <td>93</td>\n",
       "    </tr>\n",
       "    <tr>\n",
       "      <th>12</th>\n",
       "      <td>UK Visa Refusal: Provenance of funds/parking</td>\n",
       "      <td>89</td>\n",
       "    </tr>\n",
       "    <tr>\n",
       "      <th>13</th>\n",
       "      <td>Does a multiple-entry Schengen visa allow visi...</td>\n",
       "      <td>78</td>\n",
       "    </tr>\n",
       "    <tr>\n",
       "      <th>14</th>\n",
       "      <td>Does the 90 days VWP rule ever expire if you t...</td>\n",
       "      <td>73</td>\n",
       "    </tr>\n",
       "    <tr>\n",
       "      <th>15</th>\n",
       "      <td>Do you have to take the second leg of a domest...</td>\n",
       "      <td>68</td>\n",
       "    </tr>\n",
       "    <tr>\n",
       "      <th>16</th>\n",
       "      <td>UK visa refusal on V 4.2 a + c (and sometimes ...</td>\n",
       "      <td>58</td>\n",
       "    </tr>\n",
       "    <tr>\n",
       "      <th>17</th>\n",
       "      <td>Do I need a Turkey transit visa for a layover?</td>\n",
       "      <td>57</td>\n",
       "    </tr>\n",
       "    <tr>\n",
       "      <th>18</th>\n",
       "      <td>Is there a way to find out if I need a transit...</td>\n",
       "      <td>53</td>\n",
       "    </tr>\n",
       "    <tr>\n",
       "      <th>19</th>\n",
       "      <td>Do I need a transit visa for a layover via Dub...</td>\n",
       "      <td>52</td>\n",
       "    </tr>\n",
       "  </tbody>\n",
       "</table>\n",
       "</div>"
      ],
      "text/plain": [
       "                                                Title  NumLinks\n",
       "0   Is there a way to find out if I need a transit...       594\n",
       "1   Do I need a visa to transit (or layover) in th...       585\n",
       "2   Should my first trip be to the country which i...       331\n",
       "3   Should I submit bank statements when applying ...       259\n",
       "4   How much electronics and other valuables can I...       197\n",
       "5             How does the Schengen 90/180 rule work?       192\n",
       "6   Do I need a US visa to transit (or layover) th...       165\n",
       "7   I have two passports/nationalities. How do I u...       146\n",
       "8   Schengen Visa Refusal: Justification for the p...       111\n",
       "9   Can I visit Schengen countries on a Type-D Sch...        96\n",
       "10  When traveling to a country with a different c...        94\n",
       "11         How can I do a \"broad\" search for flights?        93\n",
       "12       UK Visa Refusal: Provenance of funds/parking        89\n",
       "13  Does a multiple-entry Schengen visa allow visi...        78\n",
       "14  Does the 90 days VWP rule ever expire if you t...        73\n",
       "15  Do you have to take the second leg of a domest...        68\n",
       "16  UK visa refusal on V 4.2 a + c (and sometimes ...        58\n",
       "17     Do I need a Turkey transit visa for a layover?        57\n",
       "18  Is there a way to find out if I need a transit...        53\n",
       "19  Do I need a transit visa for a layover via Dub...        52"
      ]
     },
     "execution_count": 597,
     "metadata": {},
     "output_type": "execute_result"
    }
   ],
   "source": [
    "wyn_pandas_1.head(20)"
   ]
  },
  {
   "cell_type": "markdown",
   "metadata": {},
   "source": [
    "#### Interpretacja zapytania dla ramki wynikowej"
   ]
  },
  {
   "cell_type": "markdown",
   "metadata": {},
   "source": [
    "W otrzymanej ramce, w k-tym wierszu, wyświetlamy, jaki jest tytuł dla k-tej największej liczby numlinków. Rozpatrujemy tytuły, gdzie identyfikator typu postu jest równy 1."
   ]
  },
  {
   "cell_type": "markdown",
   "metadata": {},
   "source": [
    "#### Porównanie wyników"
   ]
  },
  {
   "cell_type": "code",
   "execution_count": 598,
   "metadata": {},
   "outputs": [
    {
     "data": {
      "text/plain": [
       "False"
      ]
     },
     "execution_count": 598,
     "metadata": {},
     "output_type": "execute_result"
    }
   ],
   "source": [
    "wyn_sql_1.equals(wyn_pandas_1)"
   ]
  },
  {
   "cell_type": "markdown",
   "metadata": {},
   "source": [
    "Mimo, że piersze 10 wierszy z zapytania SQL i ramki otrzymanej za pomocą \"pandas\" się zgadzają, to wynik jest False. Prawdopodobnie kolejność jest inna (możliwe, że dla wierszy o takiej samej wartości NumLinks, tytuły są ustawione w innej kolejności). Funkcja .equals() z pakietu \"pandas\" wymaga niestety, by kolejność była taka sama. Poniżej jest przykład, który pokazuje, że kolejność musi być jednakowa. Porównam ramki danych więc inną metodą (która nie wymaga takiej samej kolejności)."
   ]
  },
  {
   "cell_type": "code",
   "execution_count": 599,
   "metadata": {},
   "outputs": [
    {
     "data": {
      "text/html": [
       "<div>\n",
       "<style scoped>\n",
       "    .dataframe tbody tr th:only-of-type {\n",
       "        vertical-align: middle;\n",
       "    }\n",
       "\n",
       "    .dataframe tbody tr th {\n",
       "        vertical-align: top;\n",
       "    }\n",
       "\n",
       "    .dataframe thead th {\n",
       "        text-align: right;\n",
       "    }\n",
       "</style>\n",
       "<table border=\"1\" class=\"dataframe\">\n",
       "  <thead>\n",
       "    <tr style=\"text-align: right;\">\n",
       "      <th></th>\n",
       "      <th>0</th>\n",
       "    </tr>\n",
       "  </thead>\n",
       "  <tbody>\n",
       "    <tr>\n",
       "      <th>0</th>\n",
       "      <td>2</td>\n",
       "    </tr>\n",
       "    <tr>\n",
       "      <th>1</th>\n",
       "      <td>3</td>\n",
       "    </tr>\n",
       "    <tr>\n",
       "      <th>2</th>\n",
       "      <td>4</td>\n",
       "    </tr>\n",
       "  </tbody>\n",
       "</table>\n",
       "</div>"
      ],
      "text/plain": [
       "   0\n",
       "0  2\n",
       "1  3\n",
       "2  4"
      ]
     },
     "execution_count": 599,
     "metadata": {},
     "output_type": "execute_result"
    }
   ],
   "source": [
    "a = pd.DataFrame([2, 3, 4])\n",
    "a"
   ]
  },
  {
   "cell_type": "code",
   "execution_count": 600,
   "metadata": {},
   "outputs": [
    {
     "data": {
      "text/html": [
       "<div>\n",
       "<style scoped>\n",
       "    .dataframe tbody tr th:only-of-type {\n",
       "        vertical-align: middle;\n",
       "    }\n",
       "\n",
       "    .dataframe tbody tr th {\n",
       "        vertical-align: top;\n",
       "    }\n",
       "\n",
       "    .dataframe thead th {\n",
       "        text-align: right;\n",
       "    }\n",
       "</style>\n",
       "<table border=\"1\" class=\"dataframe\">\n",
       "  <thead>\n",
       "    <tr style=\"text-align: right;\">\n",
       "      <th></th>\n",
       "      <th>0</th>\n",
       "    </tr>\n",
       "  </thead>\n",
       "  <tbody>\n",
       "    <tr>\n",
       "      <th>0</th>\n",
       "      <td>4</td>\n",
       "    </tr>\n",
       "    <tr>\n",
       "      <th>1</th>\n",
       "      <td>2</td>\n",
       "    </tr>\n",
       "    <tr>\n",
       "      <th>2</th>\n",
       "      <td>3</td>\n",
       "    </tr>\n",
       "  </tbody>\n",
       "</table>\n",
       "</div>"
      ],
      "text/plain": [
       "   0\n",
       "0  4\n",
       "1  2\n",
       "2  3"
      ]
     },
     "execution_count": 600,
     "metadata": {},
     "output_type": "execute_result"
    }
   ],
   "source": [
    "b = pd.DataFrame([4, 2, 3])\n",
    "b"
   ]
  },
  {
   "cell_type": "code",
   "execution_count": 601,
   "metadata": {},
   "outputs": [
    {
     "data": {
      "text/plain": [
       "False"
      ]
     },
     "execution_count": 601,
     "metadata": {},
     "output_type": "execute_result"
    }
   ],
   "source": [
    "a.equals(b)"
   ]
  },
  {
   "cell_type": "markdown",
   "metadata": {},
   "source": [
    "Powyższe oba zbiory zawierają takie same elementy: 2, 3, 4, ale kolejności są różne. Zwracany wynik to: \"False\"."
   ]
  },
  {
   "cell_type": "code",
   "execution_count": 602,
   "metadata": {},
   "outputs": [
    {
     "data": {
      "text/plain": [
       "True"
      ]
     },
     "execution_count": 602,
     "metadata": {},
     "output_type": "execute_result"
    }
   ],
   "source": [
    "wyn_sql_1.loc[:, \"NumLinks\"].equals(wyn_pandas_1.loc[:, \"NumLinks\"])"
   ]
  },
  {
   "cell_type": "markdown",
   "metadata": {},
   "source": [
    "Rzeczywiście, wartości NumLinks są dobrze uporządkowane."
   ]
  },
  {
   "cell_type": "code",
   "execution_count": 603,
   "metadata": {},
   "outputs": [
    {
     "data": {
      "text/plain": [
       "False"
      ]
     },
     "execution_count": 603,
     "metadata": {},
     "output_type": "execute_result"
    }
   ],
   "source": [
    "wyn_sql_1.loc[:, \"Title\"].equals(wyn_pandas_1.loc[:, \"Title\"])"
   ]
  },
  {
   "cell_type": "markdown",
   "metadata": {},
   "source": [
    "Ale tytuły są już w innej kolejności."
   ]
  },
  {
   "cell_type": "markdown",
   "metadata": {},
   "source": [
    "Zatem sprawdzę tożsamość wyników w następujący sposób.\n",
    "Obie ramki posortuję po tytule rosnąco i po numlinkach malejąco i wtedy porównam je funkcją .equals() z pakietu \"pandas\"."
   ]
  },
  {
   "cell_type": "code",
   "execution_count": 604,
   "metadata": {},
   "outputs": [
    {
     "data": {
      "text/plain": [
       "True"
      ]
     },
     "execution_count": 604,
     "metadata": {},
     "output_type": "execute_result"
    }
   ],
   "source": [
    "wyn_sql_1.sort_values(by = [\"Title\", \"NumLinks\"], ascending = [True, False]).reset_index(drop = True).equals(wyn_pandas_1.sort_values(by = [\"Title\", \"NumLinks\"], ascending = [True, False]).reset_index(drop = True))"
   ]
  },
  {
   "cell_type": "markdown",
   "metadata": {},
   "source": [
    "Stąd oba wyniki są tożsame."
   ]
  },
  {
   "cell_type": "markdown",
   "metadata": {},
   "source": [
    "#### Porównanie czasów obu rozwiązań."
   ]
  },
  {
   "cell_type": "code",
   "execution_count": 605,
   "metadata": {},
   "outputs": [],
   "source": [
    "import timeit as ti"
   ]
  },
  {
   "cell_type": "markdown",
   "metadata": {},
   "source": [
    "##### a) Zapytanie SQL"
   ]
  },
  {
   "cell_type": "code",
   "execution_count": 606,
   "metadata": {},
   "outputs": [],
   "source": [
    "rozw_sql_1 = '''\n",
    "def fun_sql_1():\n",
    "    wyn_sql_1 = pd.read_sql_query(\"\"\"\n",
    "    SELECT Posts.Title, RelatedTab.NumLinks\n",
    "    FROM\n",
    "        (SELECT RelatedPostId AS PostId, COUNT(*) AS NumLinks\n",
    "         FROM PostLinks\n",
    "         GROUP BY RelatedPostId) AS RelatedTab\n",
    "    JOIN Posts ON RelatedTab.PostId = Posts.Id\n",
    "    WHERE Posts.PostTypeId = 1\n",
    "    ORDER BY NumLinks DESC\n",
    "    \"\"\", conn)\n",
    "'''"
   ]
  },
  {
   "cell_type": "code",
   "execution_count": 607,
   "metadata": {},
   "outputs": [
    {
     "name": "stdout",
     "output_type": "stream",
     "text": [
      "0.07000429999970947\n"
     ]
    }
   ],
   "source": [
    "time_sql_1 = ti.timeit(stmt = rozw_sql_1)\n",
    "print(time_sql_1)"
   ]
  },
  {
   "cell_type": "code",
   "execution_count": 608,
   "metadata": {},
   "outputs": [
    {
     "name": "stdout",
     "output_type": "stream",
     "text": [
      "0.08675529999891296\n"
     ]
    }
   ],
   "source": [
    "time_sql_1 = ti.timeit(stmt = rozw_sql_1)\n",
    "print(time_sql_1)"
   ]
  },
  {
   "cell_type": "code",
   "execution_count": 609,
   "metadata": {},
   "outputs": [
    {
     "name": "stdout",
     "output_type": "stream",
     "text": [
      "0.08641229999921052\n"
     ]
    }
   ],
   "source": [
    "time_sql_1 = ti.timeit(stmt = rozw_sql_1)\n",
    "print(time_sql_1)"
   ]
  },
  {
   "cell_type": "markdown",
   "metadata": {},
   "source": [
    "Widać więc, że czasy wyraźnie oscylują. Wezmę więc średnią dla stu iteracji."
   ]
  },
  {
   "cell_type": "code",
   "execution_count": 610,
   "metadata": {},
   "outputs": [
    {
     "data": {
      "text/plain": [
       "0.06543988399982481"
      ]
     },
     "execution_count": 610,
     "metadata": {},
     "output_type": "execute_result"
    }
   ],
   "source": [
    "time_sql_1 = 0\n",
    "for i in range(100):\n",
    "    time_sql_1 = time_sql_1 + ti.timeit(stmt = rozw_sql_1)\n",
    "\n",
    "time_sql_1 = time_sql_1 / 100\n",
    "\n",
    "time_sql_1"
   ]
  },
  {
   "cell_type": "code",
   "execution_count": 611,
   "metadata": {},
   "outputs": [
    {
     "data": {
      "text/plain": [
       "'Czyli średni czas utworzenia ramki danych za pomocą zapytania SQL, to 0.06543988399982481 sekund.'"
      ]
     },
     "execution_count": 611,
     "metadata": {},
     "output_type": "execute_result"
    }
   ],
   "source": [
    "f\"Czyli średni czas utworzenia ramki danych za pomocą zapytania SQL, to {time_sql_1} sekund.\""
   ]
  },
  {
   "cell_type": "markdown",
   "metadata": {},
   "source": [
    "##### b) Rozwiązanie z pakietu \"pandas\""
   ]
  },
  {
   "cell_type": "code",
   "execution_count": 612,
   "metadata": {},
   "outputs": [],
   "source": [
    "rozw_pandas_1 = '''\n",
    "def fun_pandas_1():\n",
    "    RelatedTab = pd.DataFrame(PostLinks.groupby(\"RelatedPostId\").apply(len).reset_index().rename(columns = {\"RelatedPostId\":\"PostId\", 0:\"NumLinks\"}))\n",
    "    zlacz_RelTab_Posts = pd.merge(Posts, RelatedTab, left_on = \"Id\", right_on = \"PostId\", how = \"inner\")\n",
    "    zlacz_RelTab_Posts = zlacz_RelTab_Posts.loc[zlacz_RelTab_Posts.PostTypeId == 1]\n",
    "    # Sortuję malejąco.\n",
    "    zlacz_RelTab_Posts = zlacz_RelTab_Posts.sort_values(by = \"NumLinks\", ascending = False)\n",
    "    wyn_pandas_1 = zlacz_RelTab_Posts.loc[:, [\"Title\", \"NumLinks\"]].drop_duplicates().reset_index(drop = True)\n",
    "'''"
   ]
  },
  {
   "cell_type": "code",
   "execution_count": 613,
   "metadata": {},
   "outputs": [
    {
     "data": {
      "text/plain": [
       "0.07300254399993719"
      ]
     },
     "execution_count": 613,
     "metadata": {},
     "output_type": "execute_result"
    }
   ],
   "source": [
    "time_pandas_1 = 0\n",
    "for i in range(100):\n",
    "    time_pandas_1 = time_pandas_1 + ti.timeit(stmt = rozw_pandas_1)\n",
    "\n",
    "time_pandas_1 = time_pandas_1 / 100\n",
    "\n",
    "time_pandas_1"
   ]
  },
  {
   "cell_type": "code",
   "execution_count": 614,
   "metadata": {},
   "outputs": [
    {
     "data": {
      "text/plain": [
       "\"Czyli średni czas utworzenia ramki danych za pomocą pakietu 'pandas', to 0.07300254399993719 sekund.\""
      ]
     },
     "execution_count": 614,
     "metadata": {},
     "output_type": "execute_result"
    }
   ],
   "source": [
    "f\"Czyli średni czas utworzenia ramki danych za pomocą pakietu 'pandas', to {time_pandas_1} sekund.\""
   ]
  },
  {
   "cell_type": "code",
   "execution_count": 615,
   "metadata": {},
   "outputs": [
    {
     "data": {
      "text/plain": [
       "1.1155665251505127"
      ]
     },
     "execution_count": 615,
     "metadata": {},
     "output_type": "execute_result"
    }
   ],
   "source": [
    "time_pandas_1 / time_sql_1"
   ]
  },
  {
   "cell_type": "markdown",
   "metadata": {},
   "source": [
    "Zatem czas utworzenia ramki danych za pomocą pakietu \"pandas\" jest zbliżony do czasu utworzenia ramki danych za pomocą zapytania SQL."
   ]
  },
  {
   "cell_type": "markdown",
   "metadata": {},
   "source": [
    "### Zadanie 2"
   ]
  },
  {
   "cell_type": "markdown",
   "metadata": {},
   "source": [
    "#### a) Zapytanie SQL"
   ]
  },
  {
   "cell_type": "code",
   "execution_count": 616,
   "metadata": {},
   "outputs": [],
   "source": [
    "wyn_sql_2 = pd.read_sql_query(\"\"\"\n",
    "SELECT\n",
    "    Users.DisplayName,\n",
    "    Users.Age,\n",
    "    Users.Location,\n",
    "    SUM(Posts.FavoriteCount) AS FavoriteTotal,\n",
    "    Posts.Title AS MostFavoriteQuestion,\n",
    "    MAX(Posts.FavoriteCount) AS MostFavoriteQuestionLikes\n",
    "FROM Posts\n",
    "JOIN Users ON Users.Id = Posts.OwnerUserId\n",
    "WHERE Posts.PostTypeId = 1\n",
    "GROUP BY OwnerUserId\n",
    "ORDER BY FavoriteTotal DESC\n",
    "LIMIT 10\n",
    "\"\"\", conn)"
   ]
  },
  {
   "cell_type": "code",
   "execution_count": 617,
   "metadata": {},
   "outputs": [
    {
     "data": {
      "text/html": [
       "<div>\n",
       "<style scoped>\n",
       "    .dataframe tbody tr th:only-of-type {\n",
       "        vertical-align: middle;\n",
       "    }\n",
       "\n",
       "    .dataframe tbody tr th {\n",
       "        vertical-align: top;\n",
       "    }\n",
       "\n",
       "    .dataframe thead th {\n",
       "        text-align: right;\n",
       "    }\n",
       "</style>\n",
       "<table border=\"1\" class=\"dataframe\">\n",
       "  <thead>\n",
       "    <tr style=\"text-align: right;\">\n",
       "      <th></th>\n",
       "      <th>DisplayName</th>\n",
       "      <th>Age</th>\n",
       "      <th>Location</th>\n",
       "      <th>FavoriteTotal</th>\n",
       "      <th>MostFavoriteQuestion</th>\n",
       "      <th>MostFavoriteQuestionLikes</th>\n",
       "    </tr>\n",
       "  </thead>\n",
       "  <tbody>\n",
       "    <tr>\n",
       "      <th>0</th>\n",
       "      <td>Mark Mayo</td>\n",
       "      <td>37.0</td>\n",
       "      <td>Sydney, New South Wales, Australia</td>\n",
       "      <td>467.0</td>\n",
       "      <td>Tactics to avoid getting harassed by corrupt p...</td>\n",
       "      <td>42.0</td>\n",
       "    </tr>\n",
       "    <tr>\n",
       "      <th>1</th>\n",
       "      <td>hippietrail</td>\n",
       "      <td>NaN</td>\n",
       "      <td>Oaxaca, Mexico</td>\n",
       "      <td>444.0</td>\n",
       "      <td>OK we're all adults here, so really, how on ea...</td>\n",
       "      <td>79.0</td>\n",
       "    </tr>\n",
       "    <tr>\n",
       "      <th>2</th>\n",
       "      <td>RoflcoptrException</td>\n",
       "      <td>NaN</td>\n",
       "      <td>None</td>\n",
       "      <td>294.0</td>\n",
       "      <td>How to avoid drinking vodka?</td>\n",
       "      <td>29.0</td>\n",
       "    </tr>\n",
       "    <tr>\n",
       "      <th>3</th>\n",
       "      <td>JonathanReez</td>\n",
       "      <td>26.0</td>\n",
       "      <td>Prague, Czech Republic</td>\n",
       "      <td>221.0</td>\n",
       "      <td>What is the highest viewing spot in London tha...</td>\n",
       "      <td>17.0</td>\n",
       "    </tr>\n",
       "    <tr>\n",
       "      <th>4</th>\n",
       "      <td>nsn</td>\n",
       "      <td>NaN</td>\n",
       "      <td>None</td>\n",
       "      <td>214.0</td>\n",
       "      <td>How do airlines determine ticket prices?</td>\n",
       "      <td>40.0</td>\n",
       "    </tr>\n",
       "    <tr>\n",
       "      <th>5</th>\n",
       "      <td>Gagravarr</td>\n",
       "      <td>NaN</td>\n",
       "      <td>Oxford, United Kingdom</td>\n",
       "      <td>151.0</td>\n",
       "      <td>Are there other places with gardens like those...</td>\n",
       "      <td>10.0</td>\n",
       "    </tr>\n",
       "    <tr>\n",
       "      <th>6</th>\n",
       "      <td>Andrew Grimm</td>\n",
       "      <td>38.0</td>\n",
       "      <td>Sydney, Australia</td>\n",
       "      <td>120.0</td>\n",
       "      <td>OK we're all nerds here, so really, how on ear...</td>\n",
       "      <td>8.0</td>\n",
       "    </tr>\n",
       "    <tr>\n",
       "      <th>7</th>\n",
       "      <td>VMAtm</td>\n",
       "      <td>33.0</td>\n",
       "      <td>Tampa, FL, United States</td>\n",
       "      <td>109.0</td>\n",
       "      <td>Is there a good website to plan a trip via tra...</td>\n",
       "      <td>34.0</td>\n",
       "    </tr>\n",
       "    <tr>\n",
       "      <th>8</th>\n",
       "      <td>jrdioko</td>\n",
       "      <td>NaN</td>\n",
       "      <td>None</td>\n",
       "      <td>100.0</td>\n",
       "      <td>What is the most comfortable way to sleep on a...</td>\n",
       "      <td>21.0</td>\n",
       "    </tr>\n",
       "    <tr>\n",
       "      <th>9</th>\n",
       "      <td>Gayot Fow</td>\n",
       "      <td>NaN</td>\n",
       "      <td>London, United Kingdom</td>\n",
       "      <td>98.0</td>\n",
       "      <td>Should I submit bank statements when applying ...</td>\n",
       "      <td>18.0</td>\n",
       "    </tr>\n",
       "  </tbody>\n",
       "</table>\n",
       "</div>"
      ],
      "text/plain": [
       "          DisplayName   Age                            Location  \\\n",
       "0           Mark Mayo  37.0  Sydney, New South Wales, Australia   \n",
       "1         hippietrail   NaN                      Oaxaca, Mexico   \n",
       "2  RoflcoptrException   NaN                                None   \n",
       "3        JonathanReez  26.0              Prague, Czech Republic   \n",
       "4                 nsn   NaN                                None   \n",
       "5           Gagravarr   NaN              Oxford, United Kingdom   \n",
       "6        Andrew Grimm  38.0                   Sydney, Australia   \n",
       "7               VMAtm  33.0            Tampa, FL, United States   \n",
       "8             jrdioko   NaN                                None   \n",
       "9           Gayot Fow   NaN              London, United Kingdom   \n",
       "\n",
       "   FavoriteTotal                               MostFavoriteQuestion  \\\n",
       "0          467.0  Tactics to avoid getting harassed by corrupt p...   \n",
       "1          444.0  OK we're all adults here, so really, how on ea...   \n",
       "2          294.0                       How to avoid drinking vodka?   \n",
       "3          221.0  What is the highest viewing spot in London tha...   \n",
       "4          214.0           How do airlines determine ticket prices?   \n",
       "5          151.0  Are there other places with gardens like those...   \n",
       "6          120.0  OK we're all nerds here, so really, how on ear...   \n",
       "7          109.0  Is there a good website to plan a trip via tra...   \n",
       "8          100.0  What is the most comfortable way to sleep on a...   \n",
       "9           98.0  Should I submit bank statements when applying ...   \n",
       "\n",
       "   MostFavoriteQuestionLikes  \n",
       "0                       42.0  \n",
       "1                       79.0  \n",
       "2                       29.0  \n",
       "3                       17.0  \n",
       "4                       40.0  \n",
       "5                       10.0  \n",
       "6                        8.0  \n",
       "7                       34.0  \n",
       "8                       21.0  \n",
       "9                       18.0  "
      ]
     },
     "execution_count": 617,
     "metadata": {},
     "output_type": "execute_result"
    }
   ],
   "source": [
    "wyn_sql_2"
   ]
  },
  {
   "cell_type": "markdown",
   "metadata": {},
   "source": [
    "#### b) Rozwiązanie z pakietu \"pandas\""
   ]
  },
  {
   "cell_type": "code",
   "execution_count": 618,
   "metadata": {},
   "outputs": [],
   "source": [
    "zlacz_Posts_Users = pd.DataFrame(pd.merge(Users, Posts, left_on = \"Id\", right_on = \"OwnerUserId\", how = \"inner\"))"
   ]
  },
  {
   "cell_type": "code",
   "execution_count": 619,
   "metadata": {},
   "outputs": [],
   "source": [
    "zlacz_Posts_Users = zlacz_Posts_Users.loc[zlacz_Posts_Users.PostTypeId == 1]"
   ]
  },
  {
   "cell_type": "code",
   "execution_count": 620,
   "metadata": {},
   "outputs": [],
   "source": [
    "zlacz_Posts_Users = zlacz_Posts_Users.rename(columns = {\"Title\":\"MostFavoriteQuestion\"})"
   ]
  },
  {
   "cell_type": "code",
   "execution_count": 621,
   "metadata": {},
   "outputs": [
    {
     "data": {
      "text/html": [
       "<div>\n",
       "<style scoped>\n",
       "    .dataframe tbody tr th:only-of-type {\n",
       "        vertical-align: middle;\n",
       "    }\n",
       "\n",
       "    .dataframe tbody tr th {\n",
       "        vertical-align: top;\n",
       "    }\n",
       "\n",
       "    .dataframe thead th {\n",
       "        text-align: right;\n",
       "    }\n",
       "</style>\n",
       "<table border=\"1\" class=\"dataframe\">\n",
       "  <thead>\n",
       "    <tr style=\"text-align: right;\">\n",
       "      <th></th>\n",
       "      <th>OwnerUserId</th>\n",
       "      <th>FavoriteTotal</th>\n",
       "      <th>MostFavoriteQuestionLikes</th>\n",
       "    </tr>\n",
       "  </thead>\n",
       "  <tbody>\n",
       "    <tr>\n",
       "      <th>0</th>\n",
       "      <td>8.0</td>\n",
       "      <td>13.0</td>\n",
       "      <td>13.0</td>\n",
       "    </tr>\n",
       "    <tr>\n",
       "      <th>1</th>\n",
       "      <td>9.0</td>\n",
       "      <td>0.0</td>\n",
       "      <td>NaN</td>\n",
       "    </tr>\n",
       "    <tr>\n",
       "      <th>2</th>\n",
       "      <td>10.0</td>\n",
       "      <td>40.0</td>\n",
       "      <td>35.0</td>\n",
       "    </tr>\n",
       "    <tr>\n",
       "      <th>3</th>\n",
       "      <td>11.0</td>\n",
       "      <td>17.0</td>\n",
       "      <td>4.0</td>\n",
       "    </tr>\n",
       "    <tr>\n",
       "      <th>4</th>\n",
       "      <td>13.0</td>\n",
       "      <td>58.0</td>\n",
       "      <td>49.0</td>\n",
       "    </tr>\n",
       "    <tr>\n",
       "      <th>5</th>\n",
       "      <td>16.0</td>\n",
       "      <td>3.0</td>\n",
       "      <td>3.0</td>\n",
       "    </tr>\n",
       "    <tr>\n",
       "      <th>6</th>\n",
       "      <td>19.0</td>\n",
       "      <td>109.0</td>\n",
       "      <td>34.0</td>\n",
       "    </tr>\n",
       "    <tr>\n",
       "      <th>7</th>\n",
       "      <td>22.0</td>\n",
       "      <td>0.0</td>\n",
       "      <td>NaN</td>\n",
       "    </tr>\n",
       "    <tr>\n",
       "      <th>8</th>\n",
       "      <td>23.0</td>\n",
       "      <td>14.0</td>\n",
       "      <td>8.0</td>\n",
       "    </tr>\n",
       "    <tr>\n",
       "      <th>9</th>\n",
       "      <td>24.0</td>\n",
       "      <td>0.0</td>\n",
       "      <td>NaN</td>\n",
       "    </tr>\n",
       "  </tbody>\n",
       "</table>\n",
       "</div>"
      ],
      "text/plain": [
       "   OwnerUserId  FavoriteTotal  MostFavoriteQuestionLikes\n",
       "0          8.0           13.0                       13.0\n",
       "1          9.0            0.0                        NaN\n",
       "2         10.0           40.0                       35.0\n",
       "3         11.0           17.0                        4.0\n",
       "4         13.0           58.0                       49.0\n",
       "5         16.0            3.0                        3.0\n",
       "6         19.0          109.0                       34.0\n",
       "7         22.0            0.0                        NaN\n",
       "8         23.0           14.0                        8.0\n",
       "9         24.0            0.0                        NaN"
      ]
     },
     "execution_count": 621,
     "metadata": {},
     "output_type": "execute_result"
    }
   ],
   "source": [
    "grupuj = zlacz_Posts_Users.groupby(\"OwnerUserId\")[\"FavoriteCount\"].agg([sum, max]).reset_index().rename(columns = {\"sum\":\"FavoriteTotal\", \"max\":\"MostFavoriteQuestionLikes\"})\n",
    "grupuj.head(10)"
   ]
  },
  {
   "cell_type": "code",
   "execution_count": 622,
   "metadata": {},
   "outputs": [],
   "source": [
    "dalsze_zlaczenie = pd.merge(zlacz_Posts_Users, grupuj, how = \"inner\", left_on = [\"OwnerUserId\", \"FavoriteCount\"], \n",
    "right_on = [\"OwnerUserId\", \"MostFavoriteQuestionLikes\"])"
   ]
  },
  {
   "cell_type": "code",
   "execution_count": 623,
   "metadata": {},
   "outputs": [],
   "source": [
    "dalsze_zlaczenie = dalsze_zlaczenie.sort_values(by = \"FavoriteTotal\", ascending = False)"
   ]
  },
  {
   "cell_type": "code",
   "execution_count": 624,
   "metadata": {},
   "outputs": [],
   "source": [
    "wyn_pandas_2 = dalsze_zlaczenie.loc[:, [\"DisplayName\", \"Age\", \"Location\", \"FavoriteTotal\", \"MostFavoriteQuestion\", \"MostFavoriteQuestionLikes\"]].head(10).reset_index(drop = True)"
   ]
  },
  {
   "cell_type": "code",
   "execution_count": 625,
   "metadata": {},
   "outputs": [
    {
     "data": {
      "text/html": [
       "<div>\n",
       "<style scoped>\n",
       "    .dataframe tbody tr th:only-of-type {\n",
       "        vertical-align: middle;\n",
       "    }\n",
       "\n",
       "    .dataframe tbody tr th {\n",
       "        vertical-align: top;\n",
       "    }\n",
       "\n",
       "    .dataframe thead th {\n",
       "        text-align: right;\n",
       "    }\n",
       "</style>\n",
       "<table border=\"1\" class=\"dataframe\">\n",
       "  <thead>\n",
       "    <tr style=\"text-align: right;\">\n",
       "      <th></th>\n",
       "      <th>DisplayName</th>\n",
       "      <th>Age</th>\n",
       "      <th>Location</th>\n",
       "      <th>FavoriteTotal</th>\n",
       "      <th>MostFavoriteQuestion</th>\n",
       "      <th>MostFavoriteQuestionLikes</th>\n",
       "    </tr>\n",
       "  </thead>\n",
       "  <tbody>\n",
       "    <tr>\n",
       "      <th>0</th>\n",
       "      <td>Mark Mayo</td>\n",
       "      <td>37.0</td>\n",
       "      <td>Sydney, New South Wales, Australia</td>\n",
       "      <td>467.0</td>\n",
       "      <td>Tactics to avoid getting harassed by corrupt p...</td>\n",
       "      <td>42.0</td>\n",
       "    </tr>\n",
       "    <tr>\n",
       "      <th>1</th>\n",
       "      <td>hippietrail</td>\n",
       "      <td>NaN</td>\n",
       "      <td>Oaxaca, Mexico</td>\n",
       "      <td>444.0</td>\n",
       "      <td>OK we're all adults here, so really, how on ea...</td>\n",
       "      <td>79.0</td>\n",
       "    </tr>\n",
       "    <tr>\n",
       "      <th>2</th>\n",
       "      <td>RoflcoptrException</td>\n",
       "      <td>NaN</td>\n",
       "      <td>NaN</td>\n",
       "      <td>294.0</td>\n",
       "      <td>How to avoid drinking vodka?</td>\n",
       "      <td>29.0</td>\n",
       "    </tr>\n",
       "    <tr>\n",
       "      <th>3</th>\n",
       "      <td>JonathanReez</td>\n",
       "      <td>26.0</td>\n",
       "      <td>Prague, Czech Republic</td>\n",
       "      <td>221.0</td>\n",
       "      <td>What is the highest viewing spot in London tha...</td>\n",
       "      <td>17.0</td>\n",
       "    </tr>\n",
       "    <tr>\n",
       "      <th>4</th>\n",
       "      <td>nsn</td>\n",
       "      <td>NaN</td>\n",
       "      <td>NaN</td>\n",
       "      <td>214.0</td>\n",
       "      <td>How do airlines determine ticket prices?</td>\n",
       "      <td>40.0</td>\n",
       "    </tr>\n",
       "    <tr>\n",
       "      <th>5</th>\n",
       "      <td>Gagravarr</td>\n",
       "      <td>NaN</td>\n",
       "      <td>Oxford, United Kingdom</td>\n",
       "      <td>151.0</td>\n",
       "      <td>Are there other places with gardens like those...</td>\n",
       "      <td>10.0</td>\n",
       "    </tr>\n",
       "    <tr>\n",
       "      <th>6</th>\n",
       "      <td>Andrew Grimm</td>\n",
       "      <td>38.0</td>\n",
       "      <td>Sydney, Australia</td>\n",
       "      <td>120.0</td>\n",
       "      <td>OK we're all nerds here, so really, how on ear...</td>\n",
       "      <td>8.0</td>\n",
       "    </tr>\n",
       "    <tr>\n",
       "      <th>7</th>\n",
       "      <td>VMAtm</td>\n",
       "      <td>33.0</td>\n",
       "      <td>Tampa, FL, United States</td>\n",
       "      <td>109.0</td>\n",
       "      <td>Is there a good website to plan a trip via tra...</td>\n",
       "      <td>34.0</td>\n",
       "    </tr>\n",
       "    <tr>\n",
       "      <th>8</th>\n",
       "      <td>jrdioko</td>\n",
       "      <td>NaN</td>\n",
       "      <td>NaN</td>\n",
       "      <td>100.0</td>\n",
       "      <td>What is the most comfortable way to sleep on a...</td>\n",
       "      <td>21.0</td>\n",
       "    </tr>\n",
       "    <tr>\n",
       "      <th>9</th>\n",
       "      <td>Gayot Fow</td>\n",
       "      <td>NaN</td>\n",
       "      <td>London, United Kingdom</td>\n",
       "      <td>98.0</td>\n",
       "      <td>Should I submit bank statements when applying ...</td>\n",
       "      <td>18.0</td>\n",
       "    </tr>\n",
       "  </tbody>\n",
       "</table>\n",
       "</div>"
      ],
      "text/plain": [
       "          DisplayName   Age                            Location  \\\n",
       "0           Mark Mayo  37.0  Sydney, New South Wales, Australia   \n",
       "1         hippietrail   NaN                      Oaxaca, Mexico   \n",
       "2  RoflcoptrException   NaN                                 NaN   \n",
       "3        JonathanReez  26.0              Prague, Czech Republic   \n",
       "4                 nsn   NaN                                 NaN   \n",
       "5           Gagravarr   NaN              Oxford, United Kingdom   \n",
       "6        Andrew Grimm  38.0                   Sydney, Australia   \n",
       "7               VMAtm  33.0            Tampa, FL, United States   \n",
       "8             jrdioko   NaN                                 NaN   \n",
       "9           Gayot Fow   NaN              London, United Kingdom   \n",
       "\n",
       "   FavoriteTotal                               MostFavoriteQuestion  \\\n",
       "0          467.0  Tactics to avoid getting harassed by corrupt p...   \n",
       "1          444.0  OK we're all adults here, so really, how on ea...   \n",
       "2          294.0                       How to avoid drinking vodka?   \n",
       "3          221.0  What is the highest viewing spot in London tha...   \n",
       "4          214.0           How do airlines determine ticket prices?   \n",
       "5          151.0  Are there other places with gardens like those...   \n",
       "6          120.0  OK we're all nerds here, so really, how on ear...   \n",
       "7          109.0  Is there a good website to plan a trip via tra...   \n",
       "8          100.0  What is the most comfortable way to sleep on a...   \n",
       "9           98.0  Should I submit bank statements when applying ...   \n",
       "\n",
       "   MostFavoriteQuestionLikes  \n",
       "0                       42.0  \n",
       "1                       79.0  \n",
       "2                       29.0  \n",
       "3                       17.0  \n",
       "4                       40.0  \n",
       "5                       10.0  \n",
       "6                        8.0  \n",
       "7                       34.0  \n",
       "8                       21.0  \n",
       "9                       18.0  "
      ]
     },
     "execution_count": 625,
     "metadata": {},
     "output_type": "execute_result"
    }
   ],
   "source": [
    "wyn_pandas_2"
   ]
  },
  {
   "cell_type": "markdown",
   "metadata": {},
   "source": [
    "#### Interpretacja zapytania dla ramki wynikowej"
   ]
  },
  {
   "cell_type": "markdown",
   "metadata": {},
   "source": [
    "W otrzymanej ramce danych wyświetlamy, wyświetlaną nazwę użytkownika, jego wiek, lokalizację, całkowitą ilość ulubionych postów, ulubione pytanie, największą ilość ulubionych pytań dla każdego ID właściciela postu."
   ]
  },
  {
   "cell_type": "markdown",
   "metadata": {},
   "source": [
    "#### Porównanie wyników"
   ]
  },
  {
   "cell_type": "code",
   "execution_count": 626,
   "metadata": {},
   "outputs": [
    {
     "data": {
      "text/plain": [
       "True"
      ]
     },
     "execution_count": 626,
     "metadata": {},
     "output_type": "execute_result"
    }
   ],
   "source": [
    "wyn_sql_2.equals(wyn_pandas_2)"
   ]
  },
  {
   "cell_type": "markdown",
   "metadata": {},
   "source": [
    "Stąd oba wyniki są tożsame."
   ]
  },
  {
   "cell_type": "markdown",
   "metadata": {},
   "source": [
    "#### Porównanie czasów obu rozwiązań."
   ]
  },
  {
   "cell_type": "markdown",
   "metadata": {},
   "source": [
    "##### a) Zapytanie SQL"
   ]
  },
  {
   "cell_type": "code",
   "execution_count": 627,
   "metadata": {},
   "outputs": [],
   "source": [
    "rozw_sql_2 = '''\n",
    "def fun_sql_2():\n",
    "    wyn_sql_2 = pd.read_sql_query(\"\"\"\n",
    "    SELECT\n",
    "        Users.DisplayName,\n",
    "        Users.Age,\n",
    "        Users.Location,\n",
    "        SUM(Posts.FavoriteCount) AS FavoriteTotal,\n",
    "        Posts.Title AS MostFavoriteQuestion,\n",
    "        MAX(Posts.FavoriteCount) AS MostFavoriteQuestionLikes\n",
    "    FROM Posts\n",
    "    JOIN Users ON Users.Id = Posts.OwnerUserId\n",
    "    WHERE Posts.PostTypeId = 1\n",
    "    GROUP BY OwnerUserId\n",
    "    ORDER BY FavoriteTotal DESC\n",
    "    LIMIT 10\n",
    "    \"\"\", conn)\n",
    "'''"
   ]
  },
  {
   "cell_type": "code",
   "execution_count": 628,
   "metadata": {},
   "outputs": [
    {
     "data": {
      "text/plain": [
       "0.07997642000002088"
      ]
     },
     "execution_count": 628,
     "metadata": {},
     "output_type": "execute_result"
    }
   ],
   "source": [
    "time_sql_2 = 0\n",
    "for i in range(100):\n",
    "    time_sql_2 = time_sql_2 + ti.timeit(stmt = rozw_sql_2)\n",
    "\n",
    "time_sql_2 = time_sql_2 / 100\n",
    "\n",
    "time_sql_2"
   ]
  },
  {
   "cell_type": "code",
   "execution_count": 629,
   "metadata": {},
   "outputs": [
    {
     "data": {
      "text/plain": [
       "'Czyli średni czas utworzenia ramki danych za pomocą zapytania SQL, to 0.07997642000002088 sekund.'"
      ]
     },
     "execution_count": 629,
     "metadata": {},
     "output_type": "execute_result"
    }
   ],
   "source": [
    "f\"Czyli średni czas utworzenia ramki danych za pomocą zapytania SQL, to {time_sql_2} sekund.\""
   ]
  },
  {
   "cell_type": "markdown",
   "metadata": {},
   "source": [
    "##### b) Rozwiązanie z pakietu \"pandas\""
   ]
  },
  {
   "cell_type": "code",
   "execution_count": 630,
   "metadata": {},
   "outputs": [],
   "source": [
    "rozw_pandas_2 = '''\n",
    "def fun_pandas_2():\n",
    "    zlacz_Posts_Users = pd.DataFrame(pd.merge(Users, Posts, left_on = \"Id\", right_on = \"OwnerUserId\", how = \"inner\"))\n",
    "    zlacz_Posts_Users = zlacz_Posts_Users.loc[zlacz_Posts_Users.PostTypeId == 1]\n",
    "    zlacz_Posts_Users = zlacz_Posts_Users.rename(columns = {\"Title\":\"MostFavoriteQuestion\"})\n",
    "    grupuj = zlacz_Posts_Users.groupby(\"OwnerUserId\")[\"FavoriteCount\"].agg([sum, max]).reset_index().rename(columns = {\"sum\":\"FavoriteTotal\", \"max\":\"MostFavoriteQuestionLikes\"})\n",
    "    dalsze_zlaczenie = pd.merge(zlacz_Posts_Users, grupuj, how = \"inner\", left_on = [\"OwnerUserId\", \"FavoriteCount\"], \n",
    "    right_on = [\"OwnerUserId\", \"MostFavoriteQuestionLikes\"])\n",
    "    dalsze_zlaczenie = dalsze_zlaczenie.sort_values(by = \"FavoriteTotal\", ascending = False)\n",
    "    wyn_pandas_2 = dalsze_zlaczenie.loc[:, [\"DisplayName\", \"Age\", \"Location\", \"FavoriteTotal\", \"MostFavoriteQuestion\", \"MostFavoriteQuestionLikes\"]].head(10).reset_index(drop = True)\n",
    "'''"
   ]
  },
  {
   "cell_type": "code",
   "execution_count": 631,
   "metadata": {},
   "outputs": [
    {
     "data": {
      "text/plain": [
       "0.07948346699988179"
      ]
     },
     "execution_count": 631,
     "metadata": {},
     "output_type": "execute_result"
    }
   ],
   "source": [
    "time_pandas_2 = 0\n",
    "for i in range(100):\n",
    "    time_pandas_2 = time_pandas_2 + ti.timeit(stmt = rozw_pandas_2)\n",
    "\n",
    "time_pandas_2 = time_pandas_2 / 100\n",
    "\n",
    "time_pandas_2"
   ]
  },
  {
   "cell_type": "code",
   "execution_count": 632,
   "metadata": {},
   "outputs": [
    {
     "data": {
      "text/plain": [
       "\"Czyli średni czas utworzenia ramki danych za pomocą pakietu 'pandas', to 0.07948346699988179 sekund.\""
      ]
     },
     "execution_count": 632,
     "metadata": {},
     "output_type": "execute_result"
    }
   ],
   "source": [
    "f\"Czyli średni czas utworzenia ramki danych za pomocą pakietu 'pandas', to {time_pandas_2} sekund.\""
   ]
  },
  {
   "cell_type": "code",
   "execution_count": 633,
   "metadata": {},
   "outputs": [
    {
     "data": {
      "text/plain": [
       "0.9938362707390633"
      ]
     },
     "execution_count": 633,
     "metadata": {},
     "output_type": "execute_result"
    }
   ],
   "source": [
    "time_pandas_2 / time_sql_2"
   ]
  },
  {
   "cell_type": "markdown",
   "metadata": {},
   "source": [
    "Zatem czas utworzenia ramki danych za pomocą pakietu \"pandas\" jest też zbliżony do czasu utworzenia ramki danych za pomocą zapytania SQL."
   ]
  },
  {
   "cell_type": "markdown",
   "metadata": {},
   "source": [
    "### Zadanie 3"
   ]
  },
  {
   "cell_type": "markdown",
   "metadata": {},
   "source": [
    "#### a) Zapytanie SQL"
   ]
  },
  {
   "cell_type": "code",
   "execution_count": 634,
   "metadata": {},
   "outputs": [],
   "source": [
    "wyn_sql_3 = pd.read_sql_query(\"\"\"\n",
    "SELECT\n",
    "    Posts.Title,\n",
    "    CmtTotScr.CommentsTotalScore\n",
    "FROM (\n",
    "        SELECT\n",
    "            PostID,\n",
    "            UserID,\n",
    "            SUM(Score) AS CommentsTotalScore\n",
    "        FROM Comments\n",
    "        GROUP BY PostID, UserID\n",
    ") AS CmtTotScr\n",
    "JOIN Posts ON Posts.ID = CmtTotScr.PostID AND Posts.OwnerUserId = CmtTotScr.UserID\n",
    "WHERE Posts.PostTypeId = 1\n",
    "ORDER BY CmtTotScr.CommentsTotalScore DESC\n",
    "LIMIT 10\n",
    "\"\"\", conn)"
   ]
  },
  {
   "cell_type": "code",
   "execution_count": 635,
   "metadata": {},
   "outputs": [
    {
     "data": {
      "text/html": [
       "<div>\n",
       "<style scoped>\n",
       "    .dataframe tbody tr th:only-of-type {\n",
       "        vertical-align: middle;\n",
       "    }\n",
       "\n",
       "    .dataframe tbody tr th {\n",
       "        vertical-align: top;\n",
       "    }\n",
       "\n",
       "    .dataframe thead th {\n",
       "        text-align: right;\n",
       "    }\n",
       "</style>\n",
       "<table border=\"1\" class=\"dataframe\">\n",
       "  <thead>\n",
       "    <tr style=\"text-align: right;\">\n",
       "      <th></th>\n",
       "      <th>Title</th>\n",
       "      <th>CommentsTotalScore</th>\n",
       "    </tr>\n",
       "  </thead>\n",
       "  <tbody>\n",
       "    <tr>\n",
       "      <th>0</th>\n",
       "      <td>How to intentionally get denied entry to the U...</td>\n",
       "      <td>75</td>\n",
       "    </tr>\n",
       "    <tr>\n",
       "      <th>1</th>\n",
       "      <td>How can I deal with people asking to switch se...</td>\n",
       "      <td>32</td>\n",
       "    </tr>\n",
       "    <tr>\n",
       "      <th>2</th>\n",
       "      <td>What is France's traditional costume?</td>\n",
       "      <td>26</td>\n",
       "    </tr>\n",
       "    <tr>\n",
       "      <th>3</th>\n",
       "      <td>What's the longest scheduled public bus ride i...</td>\n",
       "      <td>25</td>\n",
       "    </tr>\n",
       "    <tr>\n",
       "      <th>4</th>\n",
       "      <td>Can I have a watermelon in hand luggage?</td>\n",
       "      <td>25</td>\n",
       "    </tr>\n",
       "    <tr>\n",
       "      <th>5</th>\n",
       "      <td>How does President Trump's travel ban affect n...</td>\n",
       "      <td>25</td>\n",
       "    </tr>\n",
       "    <tr>\n",
       "      <th>6</th>\n",
       "      <td>Caught speeding 111 Mph (179 km/h) in Californ...</td>\n",
       "      <td>24</td>\n",
       "    </tr>\n",
       "    <tr>\n",
       "      <th>7</th>\n",
       "      <td>Returning US Citizen lost passport in Canada</td>\n",
       "      <td>23</td>\n",
       "    </tr>\n",
       "    <tr>\n",
       "      <th>8</th>\n",
       "      <td>Legalities and safety concerns of visiting pro...</td>\n",
       "      <td>20</td>\n",
       "    </tr>\n",
       "    <tr>\n",
       "      <th>9</th>\n",
       "      <td>India just demonetized all Rs 500 &amp; 1000 notes...</td>\n",
       "      <td>20</td>\n",
       "    </tr>\n",
       "  </tbody>\n",
       "</table>\n",
       "</div>"
      ],
      "text/plain": [
       "                                               Title  CommentsTotalScore\n",
       "0  How to intentionally get denied entry to the U...                  75\n",
       "1  How can I deal with people asking to switch se...                  32\n",
       "2              What is France's traditional costume?                  26\n",
       "3  What's the longest scheduled public bus ride i...                  25\n",
       "4           Can I have a watermelon in hand luggage?                  25\n",
       "5  How does President Trump's travel ban affect n...                  25\n",
       "6  Caught speeding 111 Mph (179 km/h) in Californ...                  24\n",
       "7       Returning US Citizen lost passport in Canada                  23\n",
       "8  Legalities and safety concerns of visiting pro...                  20\n",
       "9  India just demonetized all Rs 500 & 1000 notes...                  20"
      ]
     },
     "execution_count": 635,
     "metadata": {},
     "output_type": "execute_result"
    }
   ],
   "source": [
    "wyn_sql_3"
   ]
  },
  {
   "cell_type": "markdown",
   "metadata": {},
   "source": [
    "#### b) Rozwiązanie z pakietu \"pandas\""
   ]
  },
  {
   "cell_type": "code",
   "execution_count": 636,
   "metadata": {},
   "outputs": [],
   "source": [
    "CmtTotScr = pd.DataFrame(Comments.groupby([\"PostId\", \"UserId\"])[\"Score\"].agg(sum).reset_index().rename(columns = {\"Score\":\"CommentsTotalScore\"}))"
   ]
  },
  {
   "cell_type": "code",
   "execution_count": 637,
   "metadata": {},
   "outputs": [
    {
     "data": {
      "text/html": [
       "<div>\n",
       "<style scoped>\n",
       "    .dataframe tbody tr th:only-of-type {\n",
       "        vertical-align: middle;\n",
       "    }\n",
       "\n",
       "    .dataframe tbody tr th {\n",
       "        vertical-align: top;\n",
       "    }\n",
       "\n",
       "    .dataframe thead th {\n",
       "        text-align: right;\n",
       "    }\n",
       "</style>\n",
       "<table border=\"1\" class=\"dataframe\">\n",
       "  <thead>\n",
       "    <tr style=\"text-align: right;\">\n",
       "      <th></th>\n",
       "      <th>PostId</th>\n",
       "      <th>UserId</th>\n",
       "      <th>CommentsTotalScore</th>\n",
       "    </tr>\n",
       "  </thead>\n",
       "  <tbody>\n",
       "    <tr>\n",
       "      <th>0</th>\n",
       "      <td>1</td>\n",
       "      <td>9.0</td>\n",
       "      <td>0</td>\n",
       "    </tr>\n",
       "    <tr>\n",
       "      <th>1</th>\n",
       "      <td>1</td>\n",
       "      <td>12.0</td>\n",
       "      <td>0</td>\n",
       "    </tr>\n",
       "    <tr>\n",
       "      <th>2</th>\n",
       "      <td>1</td>\n",
       "      <td>20.0</td>\n",
       "      <td>3</td>\n",
       "    </tr>\n",
       "    <tr>\n",
       "      <th>3</th>\n",
       "      <td>1</td>\n",
       "      <td>65.0</td>\n",
       "      <td>2</td>\n",
       "    </tr>\n",
       "    <tr>\n",
       "      <th>4</th>\n",
       "      <td>2</td>\n",
       "      <td>95.0</td>\n",
       "      <td>0</td>\n",
       "    </tr>\n",
       "  </tbody>\n",
       "</table>\n",
       "</div>"
      ],
      "text/plain": [
       "   PostId  UserId  CommentsTotalScore\n",
       "0       1     9.0                   0\n",
       "1       1    12.0                   0\n",
       "2       1    20.0                   3\n",
       "3       1    65.0                   2\n",
       "4       2    95.0                   0"
      ]
     },
     "execution_count": 637,
     "metadata": {},
     "output_type": "execute_result"
    }
   ],
   "source": [
    "CmtTotScr.head()"
   ]
  },
  {
   "cell_type": "markdown",
   "metadata": {},
   "source": [
    "#### Interpretacja zapytania dla ramki CmtTotScr"
   ]
  },
  {
   "cell_type": "markdown",
   "metadata": {},
   "source": [
    "W ramce danych CmtTotScr wyświetlamy, jaki każdy post dla danego ID użytkownika, ma całkowity wynik z komentarzy."
   ]
  },
  {
   "cell_type": "markdown",
   "metadata": {},
   "source": [
    "#### Ciąg dalszy rozwiązania"
   ]
  },
  {
   "cell_type": "code",
   "execution_count": 638,
   "metadata": {},
   "outputs": [],
   "source": [
    "zlacz_Posts_CmtTotScr = pd.merge(Posts, CmtTotScr, left_on = [\"Id\", \"OwnerUserId\"], right_on = [\"PostId\", \"UserId\"], how = \"inner\")"
   ]
  },
  {
   "cell_type": "code",
   "execution_count": 639,
   "metadata": {},
   "outputs": [],
   "source": [
    "zlacz_Posts_CmtTotScr = zlacz_Posts_CmtTotScr.loc[zlacz_Posts_CmtTotScr.PostTypeId == 1]"
   ]
  },
  {
   "cell_type": "code",
   "execution_count": 640,
   "metadata": {},
   "outputs": [],
   "source": [
    "zlacz_Posts_CmtTotScr = zlacz_Posts_CmtTotScr.sort_values(by = \"CommentsTotalScore\", ascending = False)"
   ]
  },
  {
   "cell_type": "code",
   "execution_count": 641,
   "metadata": {},
   "outputs": [],
   "source": [
    "zlacz_Posts_CmtTotScr = zlacz_Posts_CmtTotScr.loc[:, [\"Title\", \"CommentsTotalScore\"]]"
   ]
  },
  {
   "cell_type": "code",
   "execution_count": 642,
   "metadata": {},
   "outputs": [],
   "source": [
    "wyn_pandas_3 = zlacz_Posts_CmtTotScr.head(10).reset_index(drop = True)"
   ]
  },
  {
   "cell_type": "code",
   "execution_count": 643,
   "metadata": {},
   "outputs": [
    {
     "data": {
      "text/html": [
       "<div>\n",
       "<style scoped>\n",
       "    .dataframe tbody tr th:only-of-type {\n",
       "        vertical-align: middle;\n",
       "    }\n",
       "\n",
       "    .dataframe tbody tr th {\n",
       "        vertical-align: top;\n",
       "    }\n",
       "\n",
       "    .dataframe thead th {\n",
       "        text-align: right;\n",
       "    }\n",
       "</style>\n",
       "<table border=\"1\" class=\"dataframe\">\n",
       "  <thead>\n",
       "    <tr style=\"text-align: right;\">\n",
       "      <th></th>\n",
       "      <th>Title</th>\n",
       "      <th>CommentsTotalScore</th>\n",
       "    </tr>\n",
       "  </thead>\n",
       "  <tbody>\n",
       "    <tr>\n",
       "      <th>0</th>\n",
       "      <td>How to intentionally get denied entry to the U...</td>\n",
       "      <td>75</td>\n",
       "    </tr>\n",
       "    <tr>\n",
       "      <th>1</th>\n",
       "      <td>How can I deal with people asking to switch se...</td>\n",
       "      <td>32</td>\n",
       "    </tr>\n",
       "    <tr>\n",
       "      <th>2</th>\n",
       "      <td>What is France's traditional costume?</td>\n",
       "      <td>26</td>\n",
       "    </tr>\n",
       "    <tr>\n",
       "      <th>3</th>\n",
       "      <td>Can I have a watermelon in hand luggage?</td>\n",
       "      <td>25</td>\n",
       "    </tr>\n",
       "    <tr>\n",
       "      <th>4</th>\n",
       "      <td>How does President Trump's travel ban affect n...</td>\n",
       "      <td>25</td>\n",
       "    </tr>\n",
       "    <tr>\n",
       "      <th>5</th>\n",
       "      <td>What's the longest scheduled public bus ride i...</td>\n",
       "      <td>25</td>\n",
       "    </tr>\n",
       "    <tr>\n",
       "      <th>6</th>\n",
       "      <td>Caught speeding 111 Mph (179 km/h) in Californ...</td>\n",
       "      <td>24</td>\n",
       "    </tr>\n",
       "    <tr>\n",
       "      <th>7</th>\n",
       "      <td>Returning US Citizen lost passport in Canada</td>\n",
       "      <td>23</td>\n",
       "    </tr>\n",
       "    <tr>\n",
       "      <th>8</th>\n",
       "      <td>India just demonetized all Rs 500 &amp; 1000 notes...</td>\n",
       "      <td>20</td>\n",
       "    </tr>\n",
       "    <tr>\n",
       "      <th>9</th>\n",
       "      <td>Legalities and safety concerns of visiting pro...</td>\n",
       "      <td>20</td>\n",
       "    </tr>\n",
       "  </tbody>\n",
       "</table>\n",
       "</div>"
      ],
      "text/plain": [
       "                                               Title  CommentsTotalScore\n",
       "0  How to intentionally get denied entry to the U...                  75\n",
       "1  How can I deal with people asking to switch se...                  32\n",
       "2              What is France's traditional costume?                  26\n",
       "3           Can I have a watermelon in hand luggage?                  25\n",
       "4  How does President Trump's travel ban affect n...                  25\n",
       "5  What's the longest scheduled public bus ride i...                  25\n",
       "6  Caught speeding 111 Mph (179 km/h) in Californ...                  24\n",
       "7       Returning US Citizen lost passport in Canada                  23\n",
       "8  India just demonetized all Rs 500 & 1000 notes...                  20\n",
       "9  Legalities and safety concerns of visiting pro...                  20"
      ]
     },
     "execution_count": 643,
     "metadata": {},
     "output_type": "execute_result"
    }
   ],
   "source": [
    "wyn_pandas_3"
   ]
  },
  {
   "cell_type": "markdown",
   "metadata": {},
   "source": [
    "#### Interpretacja zapytania dla ramki wynikowej"
   ]
  },
  {
   "cell_type": "markdown",
   "metadata": {},
   "source": [
    "W otrzymanej ramce wyświetlamy całkowity wynik z komentarzy dla każdego tytułu postu o ID równym 1."
   ]
  },
  {
   "cell_type": "markdown",
   "metadata": {},
   "source": [
    "#### Porównanie wyników"
   ]
  },
  {
   "cell_type": "code",
   "execution_count": 644,
   "metadata": {},
   "outputs": [
    {
     "data": {
      "text/plain": [
       "False"
      ]
     },
     "execution_count": 644,
     "metadata": {},
     "output_type": "execute_result"
    }
   ],
   "source": [
    "wyn_sql_3.equals(wyn_pandas_3)"
   ]
  },
  {
   "cell_type": "markdown",
   "metadata": {},
   "source": [
    "Mimo, że piersze 10 wierszy z zapytania SQL i ramki otrzymanej za pomocą \"pandas\" się zgadzają, to wynik jest False. Widać, jak dla wartości CommentsTotalScore = 25, z SQLa i pakietu \"pandas\", że są te same tytuły (tylko inna kolejność jest). Porównam ramki danych więc inną metodą."
   ]
  },
  {
   "cell_type": "code",
   "execution_count": 645,
   "metadata": {},
   "outputs": [
    {
     "data": {
      "text/plain": [
       "True"
      ]
     },
     "execution_count": 645,
     "metadata": {},
     "output_type": "execute_result"
    }
   ],
   "source": [
    "wyn_pandas_3.loc[:, \"CommentsTotalScore\"].equals(wyn_sql_3.loc[:, \"CommentsTotalScore\"])"
   ]
  },
  {
   "cell_type": "markdown",
   "metadata": {},
   "source": [
    "Zatem wartości CommentsTotalScore są dobrze uporządkowane."
   ]
  },
  {
   "cell_type": "code",
   "execution_count": 646,
   "metadata": {},
   "outputs": [
    {
     "data": {
      "text/plain": [
       "False"
      ]
     },
     "execution_count": 646,
     "metadata": {},
     "output_type": "execute_result"
    }
   ],
   "source": [
    "wyn_pandas_3.loc[:, \"Title\"].equals(wyn_sql_3.loc[:, \"Title\"])"
   ]
  },
  {
   "cell_type": "markdown",
   "metadata": {},
   "source": [
    "Tylko wartości tytułów są w innej kolejności."
   ]
  },
  {
   "cell_type": "markdown",
   "metadata": {},
   "source": [
    "Zatem sprawdzę tożsamość wyników w sposób analogiczny jak w przypadku 1-go zapytania."
   ]
  },
  {
   "cell_type": "code",
   "execution_count": 647,
   "metadata": {},
   "outputs": [
    {
     "data": {
      "text/plain": [
       "True"
      ]
     },
     "execution_count": 647,
     "metadata": {},
     "output_type": "execute_result"
    }
   ],
   "source": [
    "wyn_sql_3.sort_values(by = [\"Title\", \"CommentsTotalScore\"], ascending = [True, False]).reset_index(drop = True).equals(wyn_pandas_3.sort_values(by = [\"Title\", \"CommentsTotalScore\"], ascending = [True, False]).reset_index(drop = True))"
   ]
  },
  {
   "cell_type": "markdown",
   "metadata": {},
   "source": [
    "Stąd oba wyniki są tożsame."
   ]
  },
  {
   "cell_type": "markdown",
   "metadata": {},
   "source": [
    "#### Porównanie czasów obu rozwiązań."
   ]
  },
  {
   "cell_type": "markdown",
   "metadata": {},
   "source": [
    "##### a) Zapytanie SQL"
   ]
  },
  {
   "cell_type": "code",
   "execution_count": 648,
   "metadata": {},
   "outputs": [],
   "source": [
    "rozw_sql_3 = '''\n",
    "def fun_sql_3():\n",
    "    wyn_sql_3 = pd.read_sql_query(\"\"\"\n",
    "    SELECT\n",
    "        Posts.Title,\n",
    "        CmtTotScr.CommentsTotalScore\n",
    "    FROM (\n",
    "            SELECT\n",
    "                PostID,\n",
    "                UserID,\n",
    "                SUM(Score) AS CommentsTotalScore\n",
    "            FROM Comments\n",
    "            GROUP BY PostID, UserID\n",
    "    ) AS CmtTotScr\n",
    "    JOIN Posts ON Posts.ID = CmtTotScr.PostID AND Posts.OwnerUserId = CmtTotScr.UserID\n",
    "    WHERE Posts.PostTypeId = 1\n",
    "    ORDER BY CmtTotScr.CommentsTotalScore DESC\n",
    "    LIMIT 10\n",
    "    \"\"\", conn)\n",
    "'''"
   ]
  },
  {
   "cell_type": "code",
   "execution_count": 649,
   "metadata": {},
   "outputs": [
    {
     "data": {
      "text/plain": [
       "0.06464780999976938"
      ]
     },
     "execution_count": 649,
     "metadata": {},
     "output_type": "execute_result"
    }
   ],
   "source": [
    "time_sql_3 = 0\n",
    "for i in range(100):\n",
    "    time_sql_3 = time_sql_3 + ti.timeit(stmt = rozw_sql_3)\n",
    "\n",
    "time_sql_3 = time_sql_3 / 100\n",
    "\n",
    "time_sql_3"
   ]
  },
  {
   "cell_type": "code",
   "execution_count": 650,
   "metadata": {},
   "outputs": [
    {
     "data": {
      "text/plain": [
       "'Czyli średni czas utworzenia ramki danych za pomocą zapytania SQL, to 0.06464780999976938 sekund.'"
      ]
     },
     "execution_count": 650,
     "metadata": {},
     "output_type": "execute_result"
    }
   ],
   "source": [
    "f\"Czyli średni czas utworzenia ramki danych za pomocą zapytania SQL, to {time_sql_3} sekund.\""
   ]
  },
  {
   "cell_type": "markdown",
   "metadata": {},
   "source": [
    "##### b) Rozwiązanie z pakietu \"pandas\""
   ]
  },
  {
   "cell_type": "code",
   "execution_count": 651,
   "metadata": {},
   "outputs": [],
   "source": [
    "rozw_pandas_3 = '''\n",
    "def fun_pandas_3():\n",
    "    CmtTotScr = pd.DataFrame(Comments.groupby([\"PostId\", \"UserId\"])[\"Score\"].agg(sum).reset_index().rename(columns = {\"Score\":\"CommentsTotalScore\"}))\n",
    "    zlacz_Posts_CmtTotScr = pd.merge(Posts, CmtTotScr, left_on = [\"Id\", \"OwnerUserId\"], right_on = [\"PostId\", \"UserId\"], how = \"inner\")\n",
    "    zlacz_Posts_CmtTotScr = zlacz_Posts_CmtTotScr.loc[zlacz_Posts_CmtTotScr.PostTypeId == 1]\n",
    "    zlacz_Posts_CmtTotScr = zlacz_Posts_CmtTotScr.sort_values(by = \"CommentsTotalScore\", ascending = False)\n",
    "    zlacz_Posts_CmtTotScr = zlacz_Posts_CmtTotScr.loc[:, [\"Title\", \"CommentsTotalScore\"]]\n",
    "    wyn_pandas_3 = zlacz_Posts_CmtTotScr.head(10).reset_index(drop = True)\n",
    "'''"
   ]
  },
  {
   "cell_type": "code",
   "execution_count": 652,
   "metadata": {},
   "outputs": [
    {
     "data": {
      "text/plain": [
       "0.06797477100019023"
      ]
     },
     "execution_count": 652,
     "metadata": {},
     "output_type": "execute_result"
    }
   ],
   "source": [
    "time_pandas_3 = 0\n",
    "for i in range(100):\n",
    "    time_pandas_3 = time_pandas_3 + ti.timeit(stmt = rozw_pandas_3)\n",
    "\n",
    "time_pandas_3 = time_pandas_3 / 100\n",
    "\n",
    "time_pandas_3"
   ]
  },
  {
   "cell_type": "code",
   "execution_count": 653,
   "metadata": {},
   "outputs": [
    {
     "data": {
      "text/plain": [
       "\"Czyli średni czas utworzenia ramki danych za pomocą pakietu 'pandas', to 0.06797477100019023 sekund.\""
      ]
     },
     "execution_count": 653,
     "metadata": {},
     "output_type": "execute_result"
    }
   ],
   "source": [
    "f\"Czyli średni czas utworzenia ramki danych za pomocą pakietu 'pandas', to {time_pandas_3} sekund.\""
   ]
  },
  {
   "cell_type": "code",
   "execution_count": 654,
   "metadata": {},
   "outputs": [
    {
     "data": {
      "text/plain": [
       "0.951055943970572"
      ]
     },
     "execution_count": 654,
     "metadata": {},
     "output_type": "execute_result"
    }
   ],
   "source": [
    "time_sql_3 / time_pandas_3"
   ]
  },
  {
   "cell_type": "markdown",
   "metadata": {},
   "source": [
    "Zatem czas utworzenia ramki danych za pomocą pakietu \"pandas\" jest również zbliżony do czasu utworzenia ramki danych za pomocą zapytania SQL."
   ]
  },
  {
   "cell_type": "markdown",
   "metadata": {},
   "source": [
    "### Zadanie 4"
   ]
  },
  {
   "cell_type": "markdown",
   "metadata": {},
   "source": [
    "#### a) Zapytanie SQL"
   ]
  },
  {
   "cell_type": "code",
   "execution_count": 655,
   "metadata": {},
   "outputs": [],
   "source": [
    "wyn_sql_4 = pd.read_sql_query(\"\"\"\n",
    "SELECT DISTINCT\n",
    "    Users.Id,\n",
    "    Users.DisplayName,\n",
    "    Users.Reputation,\n",
    "    Users.Age,\n",
    "    Users.Location\n",
    "FROM (\n",
    "        SELECT\n",
    "            Name, UserID\n",
    "        FROM Badges\n",
    "        WHERE Name IN (\n",
    "            SELECT\n",
    "                Name\n",
    "             FROM Badges\n",
    "             WHERE Class = 1\n",
    "              GROUP BY Name\n",
    "              HAVING COUNT(*) BETWEEN 2 AND 10\n",
    "        )\n",
    "        AND Class = 1\n",
    "    ) AS ValuableBadges\n",
    "JOIN Users ON ValuableBadges.UserId = Users.Id\n",
    "\"\"\", conn)"
   ]
  },
  {
   "cell_type": "code",
   "execution_count": 656,
   "metadata": {},
   "outputs": [
    {
     "data": {
      "text/html": [
       "<div>\n",
       "<style scoped>\n",
       "    .dataframe tbody tr th:only-of-type {\n",
       "        vertical-align: middle;\n",
       "    }\n",
       "\n",
       "    .dataframe tbody tr th {\n",
       "        vertical-align: top;\n",
       "    }\n",
       "\n",
       "    .dataframe thead th {\n",
       "        text-align: right;\n",
       "    }\n",
       "</style>\n",
       "<table border=\"1\" class=\"dataframe\">\n",
       "  <thead>\n",
       "    <tr style=\"text-align: right;\">\n",
       "      <th></th>\n",
       "      <th>Id</th>\n",
       "      <th>DisplayName</th>\n",
       "      <th>Reputation</th>\n",
       "      <th>Age</th>\n",
       "      <th>Location</th>\n",
       "    </tr>\n",
       "  </thead>\n",
       "  <tbody>\n",
       "    <tr>\n",
       "      <th>0</th>\n",
       "      <td>108</td>\n",
       "      <td>Ankur Banerjee</td>\n",
       "      <td>31273</td>\n",
       "      <td>27.0</td>\n",
       "      <td>London, UK</td>\n",
       "    </tr>\n",
       "    <tr>\n",
       "      <th>1</th>\n",
       "      <td>19</td>\n",
       "      <td>VMAtm</td>\n",
       "      <td>18556</td>\n",
       "      <td>33.0</td>\n",
       "      <td>Tampa, FL, United States</td>\n",
       "    </tr>\n",
       "    <tr>\n",
       "      <th>2</th>\n",
       "      <td>101</td>\n",
       "      <td>Mark Mayo</td>\n",
       "      <td>121667</td>\n",
       "      <td>37.0</td>\n",
       "      <td>Sydney, New South Wales, Australia</td>\n",
       "    </tr>\n",
       "    <tr>\n",
       "      <th>3</th>\n",
       "      <td>466</td>\n",
       "      <td>iHaveacomputer</td>\n",
       "      <td>8360</td>\n",
       "      <td>NaN</td>\n",
       "      <td>Down underer</td>\n",
       "    </tr>\n",
       "    <tr>\n",
       "      <th>4</th>\n",
       "      <td>793</td>\n",
       "      <td>mindcorrosive</td>\n",
       "      <td>10531</td>\n",
       "      <td>32.0</td>\n",
       "      <td>Bulgaria</td>\n",
       "    </tr>\n",
       "    <tr>\n",
       "      <th>5</th>\n",
       "      <td>693</td>\n",
       "      <td>RoflcoptrException</td>\n",
       "      <td>33300</td>\n",
       "      <td>NaN</td>\n",
       "      <td>None</td>\n",
       "    </tr>\n",
       "    <tr>\n",
       "      <th>6</th>\n",
       "      <td>6669</td>\n",
       "      <td>Relaxed</td>\n",
       "      <td>69405</td>\n",
       "      <td>NaN</td>\n",
       "      <td>None</td>\n",
       "    </tr>\n",
       "    <tr>\n",
       "      <th>7</th>\n",
       "      <td>1737</td>\n",
       "      <td>Gayot Fow</td>\n",
       "      <td>70237</td>\n",
       "      <td>NaN</td>\n",
       "      <td>London, United Kingdom</td>\n",
       "    </tr>\n",
       "    <tr>\n",
       "      <th>8</th>\n",
       "      <td>39065</td>\n",
       "      <td>Pont</td>\n",
       "      <td>1004</td>\n",
       "      <td>NaN</td>\n",
       "      <td>Austria</td>\n",
       "    </tr>\n",
       "    <tr>\n",
       "      <th>9</th>\n",
       "      <td>19400</td>\n",
       "      <td>phoog</td>\n",
       "      <td>34342</td>\n",
       "      <td>50.0</td>\n",
       "      <td>New York, NY</td>\n",
       "    </tr>\n",
       "  </tbody>\n",
       "</table>\n",
       "</div>"
      ],
      "text/plain": [
       "      Id         DisplayName  Reputation   Age  \\\n",
       "0    108      Ankur Banerjee       31273  27.0   \n",
       "1     19               VMAtm       18556  33.0   \n",
       "2    101           Mark Mayo      121667  37.0   \n",
       "3    466      iHaveacomputer        8360   NaN   \n",
       "4    793       mindcorrosive       10531  32.0   \n",
       "5    693  RoflcoptrException       33300   NaN   \n",
       "6   6669             Relaxed       69405   NaN   \n",
       "7   1737           Gayot Fow       70237   NaN   \n",
       "8  39065                Pont        1004   NaN   \n",
       "9  19400               phoog       34342  50.0   \n",
       "\n",
       "                             Location  \n",
       "0                          London, UK  \n",
       "1            Tampa, FL, United States  \n",
       "2  Sydney, New South Wales, Australia  \n",
       "3                        Down underer  \n",
       "4                            Bulgaria  \n",
       "5                                None  \n",
       "6                                None  \n",
       "7              London, United Kingdom  \n",
       "8                             Austria  \n",
       "9                        New York, NY  "
      ]
     },
     "execution_count": 656,
     "metadata": {},
     "output_type": "execute_result"
    }
   ],
   "source": [
    "wyn_sql_4.head(10)"
   ]
  },
  {
   "cell_type": "markdown",
   "metadata": {},
   "source": [
    "#### b) Rozwiązanie z pakietu \"pandas\""
   ]
  },
  {
   "cell_type": "code",
   "execution_count": 657,
   "metadata": {},
   "outputs": [],
   "source": [
    "Zbior_z_Name = Badges.loc[Badges.Class == 1]"
   ]
  },
  {
   "cell_type": "code",
   "execution_count": 658,
   "metadata": {},
   "outputs": [],
   "source": [
    "Zbior_z_Name = Zbior_z_Name.groupby(\"Name\").apply(len).reset_index().rename(columns = {0: \"Ile_Name\"})\n",
    "Zbior_z_Name = Zbior_z_Name.loc[(Zbior_z_Name.Ile_Name >= 2) & (Zbior_z_Name.Ile_Name <= 10)]\n",
    "Zbior_z_Name = pd.DataFrame(Zbior_z_Name.loc[:, \"Name\"])"
   ]
  },
  {
   "cell_type": "code",
   "execution_count": 659,
   "metadata": {},
   "outputs": [
    {
     "data": {
      "text/html": [
       "<div>\n",
       "<style scoped>\n",
       "    .dataframe tbody tr th:only-of-type {\n",
       "        vertical-align: middle;\n",
       "    }\n",
       "\n",
       "    .dataframe tbody tr th {\n",
       "        vertical-align: top;\n",
       "    }\n",
       "\n",
       "    .dataframe thead th {\n",
       "        text-align: right;\n",
       "    }\n",
       "</style>\n",
       "<table border=\"1\" class=\"dataframe\">\n",
       "  <thead>\n",
       "    <tr style=\"text-align: right;\">\n",
       "      <th></th>\n",
       "      <th>Name</th>\n",
       "      <th>UserId</th>\n",
       "    </tr>\n",
       "  </thead>\n",
       "  <tbody>\n",
       "    <tr>\n",
       "      <th>15158</th>\n",
       "      <td>Constable</td>\n",
       "      <td>108</td>\n",
       "    </tr>\n",
       "    <tr>\n",
       "      <th>15159</th>\n",
       "      <td>Constable</td>\n",
       "      <td>19</td>\n",
       "    </tr>\n",
       "    <tr>\n",
       "      <th>15160</th>\n",
       "      <td>Constable</td>\n",
       "      <td>101</td>\n",
       "    </tr>\n",
       "    <tr>\n",
       "      <th>19643</th>\n",
       "      <td>Reversal</td>\n",
       "      <td>466</td>\n",
       "    </tr>\n",
       "    <tr>\n",
       "      <th>22472</th>\n",
       "      <td>Sheriff</td>\n",
       "      <td>108</td>\n",
       "    </tr>\n",
       "    <tr>\n",
       "      <th>22473</th>\n",
       "      <td>Sheriff</td>\n",
       "      <td>793</td>\n",
       "    </tr>\n",
       "    <tr>\n",
       "      <th>22474</th>\n",
       "      <td>Sheriff</td>\n",
       "      <td>693</td>\n",
       "    </tr>\n",
       "    <tr>\n",
       "      <th>49097</th>\n",
       "      <td>visas</td>\n",
       "      <td>6669</td>\n",
       "    </tr>\n",
       "    <tr>\n",
       "      <th>52321</th>\n",
       "      <td>visas</td>\n",
       "      <td>1737</td>\n",
       "    </tr>\n",
       "    <tr>\n",
       "      <th>97413</th>\n",
       "      <td>Sheriff</td>\n",
       "      <td>101</td>\n",
       "    </tr>\n",
       "  </tbody>\n",
       "</table>\n",
       "</div>"
      ],
      "text/plain": [
       "            Name  UserId\n",
       "15158  Constable     108\n",
       "15159  Constable      19\n",
       "15160  Constable     101\n",
       "19643   Reversal     466\n",
       "22472    Sheriff     108\n",
       "22473    Sheriff     793\n",
       "22474    Sheriff     693\n",
       "49097      visas    6669\n",
       "52321      visas    1737\n",
       "97413    Sheriff     101"
      ]
     },
     "execution_count": 659,
     "metadata": {},
     "output_type": "execute_result"
    }
   ],
   "source": [
    "ValuableBadges = Badges[Badges.Name.isin(Zbior_z_Name.Name)]\n",
    "ValuableBadges = ValuableBadges.loc[ValuableBadges.Class == 1]\n",
    "ValuableBadges = ValuableBadges.loc[:, [\"Name\", \"UserId\"]]\n",
    "ValuableBadges.head(10)"
   ]
  },
  {
   "cell_type": "markdown",
   "metadata": {},
   "source": [
    "#### Interpretacja zapytania dla ramki ValuableBadges"
   ]
  },
  {
   "cell_type": "markdown",
   "metadata": {},
   "source": [
    "W ramce danych ValuableBadges wyświetlamy dla każdej nazwy odznaki ID użytkownika. Rozpatrujemy nazwy, gdzie ich ilość jest większa, bądź równa 2 oraz mniejsza, bądź równa 10 oraz nazwy są z klasy 1."
   ]
  },
  {
   "cell_type": "code",
   "execution_count": 660,
   "metadata": {},
   "outputs": [],
   "source": [
    "zlacz_ValuableBadges_Users = pd.merge(ValuableBadges, Users, left_on = \"UserId\", right_on = \"Id\", how = \"inner\")"
   ]
  },
  {
   "cell_type": "code",
   "execution_count": 661,
   "metadata": {},
   "outputs": [
    {
     "data": {
      "text/html": [
       "<div>\n",
       "<style scoped>\n",
       "    .dataframe tbody tr th:only-of-type {\n",
       "        vertical-align: middle;\n",
       "    }\n",
       "\n",
       "    .dataframe tbody tr th {\n",
       "        vertical-align: top;\n",
       "    }\n",
       "\n",
       "    .dataframe thead th {\n",
       "        text-align: right;\n",
       "    }\n",
       "</style>\n",
       "<table border=\"1\" class=\"dataframe\">\n",
       "  <thead>\n",
       "    <tr style=\"text-align: right;\">\n",
       "      <th></th>\n",
       "      <th>Id</th>\n",
       "      <th>DisplayName</th>\n",
       "      <th>Reputation</th>\n",
       "      <th>Age</th>\n",
       "      <th>Location</th>\n",
       "    </tr>\n",
       "  </thead>\n",
       "  <tbody>\n",
       "    <tr>\n",
       "      <th>0</th>\n",
       "      <td>108</td>\n",
       "      <td>Ankur Banerjee</td>\n",
       "      <td>31273</td>\n",
       "      <td>27.0</td>\n",
       "      <td>London, UK</td>\n",
       "    </tr>\n",
       "    <tr>\n",
       "      <th>1</th>\n",
       "      <td>19</td>\n",
       "      <td>VMAtm</td>\n",
       "      <td>18556</td>\n",
       "      <td>33.0</td>\n",
       "      <td>Tampa, FL, United States</td>\n",
       "    </tr>\n",
       "    <tr>\n",
       "      <th>2</th>\n",
       "      <td>101</td>\n",
       "      <td>Mark Mayo</td>\n",
       "      <td>121667</td>\n",
       "      <td>37.0</td>\n",
       "      <td>Sydney, New South Wales, Australia</td>\n",
       "    </tr>\n",
       "    <tr>\n",
       "      <th>3</th>\n",
       "      <td>466</td>\n",
       "      <td>iHaveacomputer</td>\n",
       "      <td>8360</td>\n",
       "      <td>NaN</td>\n",
       "      <td>Down underer</td>\n",
       "    </tr>\n",
       "    <tr>\n",
       "      <th>4</th>\n",
       "      <td>793</td>\n",
       "      <td>mindcorrosive</td>\n",
       "      <td>10531</td>\n",
       "      <td>32.0</td>\n",
       "      <td>Bulgaria</td>\n",
       "    </tr>\n",
       "    <tr>\n",
       "      <th>5</th>\n",
       "      <td>693</td>\n",
       "      <td>RoflcoptrException</td>\n",
       "      <td>33300</td>\n",
       "      <td>NaN</td>\n",
       "      <td>NaN</td>\n",
       "    </tr>\n",
       "    <tr>\n",
       "      <th>6</th>\n",
       "      <td>6669</td>\n",
       "      <td>Relaxed</td>\n",
       "      <td>69405</td>\n",
       "      <td>NaN</td>\n",
       "      <td>NaN</td>\n",
       "    </tr>\n",
       "    <tr>\n",
       "      <th>7</th>\n",
       "      <td>1737</td>\n",
       "      <td>Gayot Fow</td>\n",
       "      <td>70237</td>\n",
       "      <td>NaN</td>\n",
       "      <td>London, United Kingdom</td>\n",
       "    </tr>\n",
       "    <tr>\n",
       "      <th>8</th>\n",
       "      <td>39065</td>\n",
       "      <td>Pont</td>\n",
       "      <td>1004</td>\n",
       "      <td>NaN</td>\n",
       "      <td>Austria</td>\n",
       "    </tr>\n",
       "    <tr>\n",
       "      <th>9</th>\n",
       "      <td>19400</td>\n",
       "      <td>phoog</td>\n",
       "      <td>34342</td>\n",
       "      <td>50.0</td>\n",
       "      <td>New York, NY</td>\n",
       "    </tr>\n",
       "  </tbody>\n",
       "</table>\n",
       "</div>"
      ],
      "text/plain": [
       "      Id         DisplayName  Reputation   Age  \\\n",
       "0    108      Ankur Banerjee       31273  27.0   \n",
       "1     19               VMAtm       18556  33.0   \n",
       "2    101           Mark Mayo      121667  37.0   \n",
       "3    466      iHaveacomputer        8360   NaN   \n",
       "4    793       mindcorrosive       10531  32.0   \n",
       "5    693  RoflcoptrException       33300   NaN   \n",
       "6   6669             Relaxed       69405   NaN   \n",
       "7   1737           Gayot Fow       70237   NaN   \n",
       "8  39065                Pont        1004   NaN   \n",
       "9  19400               phoog       34342  50.0   \n",
       "\n",
       "                             Location  \n",
       "0                          London, UK  \n",
       "1            Tampa, FL, United States  \n",
       "2  Sydney, New South Wales, Australia  \n",
       "3                        Down underer  \n",
       "4                            Bulgaria  \n",
       "5                                 NaN  \n",
       "6                                 NaN  \n",
       "7              London, United Kingdom  \n",
       "8                             Austria  \n",
       "9                        New York, NY  "
      ]
     },
     "execution_count": 661,
     "metadata": {},
     "output_type": "execute_result"
    }
   ],
   "source": [
    "wyn_pandas_4 = zlacz_ValuableBadges_Users.loc[:, [\"UserId\", \"DisplayName\", \"Reputation\", \"Age\", \"Location\"]].rename(columns = {\"UserId\":\"Id\"}).drop_duplicates().reset_index(drop = True)\n",
    "wyn_pandas_4.head(10)"
   ]
  },
  {
   "cell_type": "markdown",
   "metadata": {},
   "source": [
    "#### Interpretacja zapytania dla ramki wynikowej"
   ]
  },
  {
   "cell_type": "markdown",
   "metadata": {},
   "source": [
    "W otrzymanej ramce danych wyświetlamy ID użytkownika, wyświetlaną nazwę użytkownika, jego reputację podaną w postaci liczbowej, wiek oraz lokalizację użytkownika. Bierzemy użytkownika takiego, że ma odznakę z 1 klasy oraz oznak o danej nazwie jest więcej, bądź równo 2 oraz mniej, bądź równo 10."
   ]
  },
  {
   "cell_type": "markdown",
   "metadata": {},
   "source": [
    "#### Porównanie wyników"
   ]
  },
  {
   "cell_type": "code",
   "execution_count": 662,
   "metadata": {},
   "outputs": [
    {
     "data": {
      "text/plain": [
       "True"
      ]
     },
     "execution_count": 662,
     "metadata": {},
     "output_type": "execute_result"
    }
   ],
   "source": [
    "wyn_sql_4.equals(wyn_pandas_4)"
   ]
  },
  {
   "cell_type": "markdown",
   "metadata": {},
   "source": [
    "Stąd oba wyniki są tożsame."
   ]
  },
  {
   "cell_type": "markdown",
   "metadata": {},
   "source": [
    "#### Porównanie czasów obu rozwiązań."
   ]
  },
  {
   "cell_type": "markdown",
   "metadata": {},
   "source": [
    "##### a) Zapytanie SQL"
   ]
  },
  {
   "cell_type": "code",
   "execution_count": 663,
   "metadata": {},
   "outputs": [],
   "source": [
    "rozw_sql_4 = '''\n",
    "def fun_sql_4():\n",
    "    wyn_sql_4 = pd.read_sql_query(\"\"\"\n",
    "    SELECT DISTINCT\n",
    "        Users.Id,\n",
    "        Users.DisplayName,\n",
    "        Users.Reputation,\n",
    "        Users.Age,\n",
    "        Users.Location\n",
    "    FROM (\n",
    "            SELECT\n",
    "                Name, UserID\n",
    "            FROM Badges\n",
    "            WHERE Name IN (\n",
    "                SELECT\n",
    "                    Name\n",
    "                 FROM Badges\n",
    "                 WHERE Class = 1\n",
    "                  GROUP BY Name\n",
    "                  HAVING COUNT(*) BETWEEN 2 AND 10\n",
    "            )\n",
    "            AND Class = 1\n",
    "        ) AS ValuableBadges\n",
    "    JOIN Users ON ValuableBadges.UserId = Users.Id\n",
    "    \"\"\", conn)\n",
    "'''"
   ]
  },
  {
   "cell_type": "code",
   "execution_count": 664,
   "metadata": {},
   "outputs": [
    {
     "data": {
      "text/plain": [
       "0.06347191500000918"
      ]
     },
     "execution_count": 664,
     "metadata": {},
     "output_type": "execute_result"
    }
   ],
   "source": [
    "time_sql_4 = 0\n",
    "for i in range(100):\n",
    "    time_sql_4 = time_sql_4 + ti.timeit(stmt = rozw_sql_4)\n",
    "\n",
    "time_sql_4 = time_sql_4 / 100\n",
    "\n",
    "time_sql_4"
   ]
  },
  {
   "cell_type": "code",
   "execution_count": 665,
   "metadata": {},
   "outputs": [
    {
     "data": {
      "text/plain": [
       "'Czyli średni czas utworzenia ramki danych za pomocą zapytania SQL, to 0.06347191500000918 sekund.'"
      ]
     },
     "execution_count": 665,
     "metadata": {},
     "output_type": "execute_result"
    }
   ],
   "source": [
    "f\"Czyli średni czas utworzenia ramki danych za pomocą zapytania SQL, to {time_sql_4} sekund.\""
   ]
  },
  {
   "cell_type": "markdown",
   "metadata": {},
   "source": [
    "##### b) Rozwiązanie z pakietu \"pandas\""
   ]
  },
  {
   "cell_type": "code",
   "execution_count": 666,
   "metadata": {},
   "outputs": [],
   "source": [
    "rozw_pandas_4 = '''\n",
    "def fun_pandas_4():\n",
    "    Zbior_z_Name = Badges.loc[Badges.Class == 1]\n",
    "    Zbior_z_Name = Zbior_z_Name.groupby(\"Name\").apply(len).reset_index().rename(columns = {0: \"Ile_Name\"})\n",
    "    Zbior_z_Name = Zbior_z_Name.loc[(Zbior_z_Name.Ile_Name >= 2) & (Zbior_z_Name.Ile_Name <= 10)]\n",
    "    Zbior_z_Name = pd.DataFrame(Zbior_z_Name.loc[:, \"Name\"])\n",
    "    ValuableBadges = Badges[Badges.Name.isin(Zbior_z_Name.Name)]\n",
    "    ValuableBadges = ValuableBadges.loc[ValuableBadges.Class == 1]\n",
    "    ValuableBadges = ValuableBadges.loc[:, [\"Name\", \"UserId\"]]\n",
    "    zlacz_ValuableBadges_Users = pd.merge(ValuableBadges, Users, left_on = \"UserId\", right_on = \"Id\", how = \"inner\")\n",
    "    wyn_pandas_4 = zlacz_ValuableBadges_Users.loc[:, [\"UserId\", \"DisplayName\", \"Reputation\", \"Age\", \"Location\"]].rename(columns = {\"UserId\":\"Id\"}).drop_duplicates().reset_index(drop = True)\n",
    "'''"
   ]
  },
  {
   "cell_type": "code",
   "execution_count": 667,
   "metadata": {},
   "outputs": [
    {
     "data": {
      "text/plain": [
       "0.064088916000037"
      ]
     },
     "execution_count": 667,
     "metadata": {},
     "output_type": "execute_result"
    }
   ],
   "source": [
    "time_pandas_4 = 0\n",
    "for i in range(100):\n",
    "    time_pandas_4 = time_pandas_4 + ti.timeit(stmt = rozw_pandas_4)\n",
    "\n",
    "time_pandas_4 = time_pandas_4 / 100\n",
    "\n",
    "time_pandas_4"
   ]
  },
  {
   "cell_type": "code",
   "execution_count": 668,
   "metadata": {},
   "outputs": [
    {
     "data": {
      "text/plain": [
       "\"Czyli średni czas utworzenia ramki danych za pomocą pakietu 'pandas', to 0.064088916000037 sekund.\""
      ]
     },
     "execution_count": 668,
     "metadata": {},
     "output_type": "execute_result"
    }
   ],
   "source": [
    "f\"Czyli średni czas utworzenia ramki danych za pomocą pakietu 'pandas', to {time_pandas_4} sekund.\""
   ]
  },
  {
   "cell_type": "code",
   "execution_count": 669,
   "metadata": {},
   "outputs": [
    {
     "data": {
      "text/plain": [
       "1.0097208505530002"
      ]
     },
     "execution_count": 669,
     "metadata": {},
     "output_type": "execute_result"
    }
   ],
   "source": [
    "time_pandas_4 / time_sql_4"
   ]
  },
  {
   "cell_type": "markdown",
   "metadata": {},
   "source": [
    "Zatem czas utworzenia ramki danych za pomocą pakietu \"pandas\" jest także zbliżony do czasu utworzenia ramki danych za pomocą zapytania SQL."
   ]
  },
  {
   "cell_type": "markdown",
   "metadata": {},
   "source": [
    "### Zadanie 5"
   ]
  },
  {
   "cell_type": "markdown",
   "metadata": {},
   "source": [
    "#### a) Zapytanie SQL"
   ]
  },
  {
   "cell_type": "code",
   "execution_count": 670,
   "metadata": {},
   "outputs": [],
   "source": [
    "wyn_sql_5 = pd.read_sql_query(\"\"\"\n",
    "SELECT\n",
    "    Questions.Id,\n",
    "    Questions.Title,\n",
    "    BestAnswers.MaxScore,\n",
    "    Posts.Score AS AcceptedScore,\n",
    "    BestAnswers.MaxScore - Posts.Score AS Difference\n",
    "FROM (\n",
    "        SELECT Id, ParentId, MAX(Score) AS MaxScore\n",
    "        FROM Posts\n",
    "        WHERE PostTypeId == 2\n",
    "        GROUP BY ParentId\n",
    "    ) AS BestAnswers\n",
    "JOIN (\n",
    "        SELECT * FROM Posts\n",
    "        WHERE PostTypeId == 1\n",
    "    ) AS Questions\n",
    "    ON Questions.Id = BestAnswers.ParentId\n",
    "JOIN Posts ON Questions.AcceptedAnswerId = Posts.Id\n",
    "WHERE Difference > 50\n",
    "ORDER BY Difference DESC\n",
    "\"\"\", conn)"
   ]
  },
  {
   "cell_type": "code",
   "execution_count": 671,
   "metadata": {},
   "outputs": [
    {
     "data": {
      "text/html": [
       "<div>\n",
       "<style scoped>\n",
       "    .dataframe tbody tr th:only-of-type {\n",
       "        vertical-align: middle;\n",
       "    }\n",
       "\n",
       "    .dataframe tbody tr th {\n",
       "        vertical-align: top;\n",
       "    }\n",
       "\n",
       "    .dataframe thead th {\n",
       "        text-align: right;\n",
       "    }\n",
       "</style>\n",
       "<table border=\"1\" class=\"dataframe\">\n",
       "  <thead>\n",
       "    <tr style=\"text-align: right;\">\n",
       "      <th></th>\n",
       "      <th>Id</th>\n",
       "      <th>Title</th>\n",
       "      <th>MaxScore</th>\n",
       "      <th>AcceptedScore</th>\n",
       "      <th>Difference</th>\n",
       "    </tr>\n",
       "  </thead>\n",
       "  <tbody>\n",
       "    <tr>\n",
       "      <th>0</th>\n",
       "      <td>99713</td>\n",
       "      <td>In Germany, what are you supposed to do if you...</td>\n",
       "      <td>126</td>\n",
       "      <td>33</td>\n",
       "      <td>93</td>\n",
       "    </tr>\n",
       "    <tr>\n",
       "      <th>1</th>\n",
       "      <td>81376</td>\n",
       "      <td>What is way to eat rice with hands in front of...</td>\n",
       "      <td>120</td>\n",
       "      <td>30</td>\n",
       "      <td>90</td>\n",
       "    </tr>\n",
       "    <tr>\n",
       "      <th>2</th>\n",
       "      <td>76737</td>\n",
       "      <td>Why do many countries in the world still requi...</td>\n",
       "      <td>118</td>\n",
       "      <td>31</td>\n",
       "      <td>87</td>\n",
       "    </tr>\n",
       "    <tr>\n",
       "      <th>3</th>\n",
       "      <td>38177</td>\n",
       "      <td>How do you know if Americans genuinely/literal...</td>\n",
       "      <td>245</td>\n",
       "      <td>166</td>\n",
       "      <td>79</td>\n",
       "    </tr>\n",
       "    <tr>\n",
       "      <th>4</th>\n",
       "      <td>90636</td>\n",
       "      <td>Caught speeding 111 Mph (179 km/h) in Californ...</td>\n",
       "      <td>101</td>\n",
       "      <td>25</td>\n",
       "      <td>76</td>\n",
       "    </tr>\n",
       "    <tr>\n",
       "      <th>5</th>\n",
       "      <td>81492</td>\n",
       "      <td>Why is international first class much more exp...</td>\n",
       "      <td>90</td>\n",
       "      <td>21</td>\n",
       "      <td>69</td>\n",
       "    </tr>\n",
       "    <tr>\n",
       "      <th>6</th>\n",
       "      <td>94320</td>\n",
       "      <td>Strange looking region of France on Google Maps</td>\n",
       "      <td>71</td>\n",
       "      <td>7</td>\n",
       "      <td>64</td>\n",
       "    </tr>\n",
       "    <tr>\n",
       "      <th>7</th>\n",
       "      <td>80050</td>\n",
       "      <td>What's an easy way of making my luggage unique...</td>\n",
       "      <td>72</td>\n",
       "      <td>16</td>\n",
       "      <td>56</td>\n",
       "    </tr>\n",
       "  </tbody>\n",
       "</table>\n",
       "</div>"
      ],
      "text/plain": [
       "      Id                                              Title  MaxScore  \\\n",
       "0  99713  In Germany, what are you supposed to do if you...       126   \n",
       "1  81376  What is way to eat rice with hands in front of...       120   \n",
       "2  76737  Why do many countries in the world still requi...       118   \n",
       "3  38177  How do you know if Americans genuinely/literal...       245   \n",
       "4  90636  Caught speeding 111 Mph (179 km/h) in Californ...       101   \n",
       "5  81492  Why is international first class much more exp...        90   \n",
       "6  94320    Strange looking region of France on Google Maps        71   \n",
       "7  80050  What's an easy way of making my luggage unique...        72   \n",
       "\n",
       "   AcceptedScore  Difference  \n",
       "0             33          93  \n",
       "1             30          90  \n",
       "2             31          87  \n",
       "3            166          79  \n",
       "4             25          76  \n",
       "5             21          69  \n",
       "6              7          64  \n",
       "7             16          56  "
      ]
     },
     "execution_count": 671,
     "metadata": {},
     "output_type": "execute_result"
    }
   ],
   "source": [
    "wyn_sql_5.head(10)"
   ]
  },
  {
   "cell_type": "markdown",
   "metadata": {},
   "source": [
    "#### b) Rozwiązanie z pakietu \"pandas\""
   ]
  },
  {
   "cell_type": "code",
   "execution_count": 672,
   "metadata": {},
   "outputs": [
    {
     "data": {
      "text/html": [
       "<div>\n",
       "<style scoped>\n",
       "    .dataframe tbody tr th:only-of-type {\n",
       "        vertical-align: middle;\n",
       "    }\n",
       "\n",
       "    .dataframe tbody tr th {\n",
       "        vertical-align: top;\n",
       "    }\n",
       "\n",
       "    .dataframe thead th {\n",
       "        text-align: right;\n",
       "    }\n",
       "</style>\n",
       "<table border=\"1\" class=\"dataframe\">\n",
       "  <thead>\n",
       "    <tr style=\"text-align: right;\">\n",
       "      <th></th>\n",
       "      <th>Id</th>\n",
       "      <th>ParentId</th>\n",
       "      <th>MaxScore</th>\n",
       "    </tr>\n",
       "  </thead>\n",
       "  <tbody>\n",
       "    <tr>\n",
       "      <th>0</th>\n",
       "      <td>393</td>\n",
       "      <td>1.0</td>\n",
       "      <td>7</td>\n",
       "    </tr>\n",
       "    <tr>\n",
       "      <th>1</th>\n",
       "      <td>2911</td>\n",
       "      <td>2.0</td>\n",
       "      <td>19</td>\n",
       "    </tr>\n",
       "    <tr>\n",
       "      <th>2</th>\n",
       "      <td>56</td>\n",
       "      <td>4.0</td>\n",
       "      <td>8</td>\n",
       "    </tr>\n",
       "    <tr>\n",
       "      <th>3</th>\n",
       "      <td>770</td>\n",
       "      <td>5.0</td>\n",
       "      <td>13</td>\n",
       "    </tr>\n",
       "    <tr>\n",
       "      <th>4</th>\n",
       "      <td>12</td>\n",
       "      <td>6.0</td>\n",
       "      <td>49</td>\n",
       "    </tr>\n",
       "    <tr>\n",
       "      <th>5</th>\n",
       "      <td>471</td>\n",
       "      <td>8.0</td>\n",
       "      <td>11</td>\n",
       "    </tr>\n",
       "    <tr>\n",
       "      <th>6</th>\n",
       "      <td>178</td>\n",
       "      <td>9.0</td>\n",
       "      <td>20</td>\n",
       "    </tr>\n",
       "    <tr>\n",
       "      <th>7</th>\n",
       "      <td>17</td>\n",
       "      <td>10.0</td>\n",
       "      <td>107</td>\n",
       "    </tr>\n",
       "    <tr>\n",
       "      <th>8</th>\n",
       "      <td>198</td>\n",
       "      <td>11.0</td>\n",
       "      <td>24</td>\n",
       "    </tr>\n",
       "    <tr>\n",
       "      <th>9</th>\n",
       "      <td>1608</td>\n",
       "      <td>13.0</td>\n",
       "      <td>7</td>\n",
       "    </tr>\n",
       "  </tbody>\n",
       "</table>\n",
       "</div>"
      ],
      "text/plain": [
       "     Id  ParentId  MaxScore\n",
       "0   393       1.0         7\n",
       "1  2911       2.0        19\n",
       "2    56       4.0         8\n",
       "3   770       5.0        13\n",
       "4    12       6.0        49\n",
       "5   471       8.0        11\n",
       "6   178       9.0        20\n",
       "7    17      10.0       107\n",
       "8   198      11.0        24\n",
       "9  1608      13.0         7"
      ]
     },
     "execution_count": 672,
     "metadata": {},
     "output_type": "execute_result"
    }
   ],
   "source": [
    "Posts_z_TypeId_2 = Posts.loc[Posts.PostTypeId == 2]\n",
    "Czesc_bez_Id = Posts_z_TypeId_2.groupby(\"ParentId\")[\"Score\"].agg(max).reset_index().rename(columns = {\"Score\":\"MaxScore\"})\n",
    "BestAnswers = Czesc_bez_Id.merge(Posts_z_TypeId_2, how = \"inner\", right_on = [\"ParentId\", \"Score\"], \\\n",
    "left_on = [\"ParentId\", \"MaxScore\"])[[\"Id\", \"ParentId\", \"MaxScore\"]]       \n",
    "\n",
    "BestAnswers.head(10)"
   ]
  },
  {
   "cell_type": "markdown",
   "metadata": {},
   "source": [
    "#### Interpretacja zapytania dla ramki BestAnswers"
   ]
  },
  {
   "cell_type": "markdown",
   "metadata": {},
   "source": [
    "Ramka danych BestAnswers wyświetla, jaki każdy ID użytkownika o danym ID rodzica, ma najlepszy wynik. Rozpatrujemy posty o identyfikatorze typu postu równym 2."
   ]
  },
  {
   "cell_type": "code",
   "execution_count": 673,
   "metadata": {},
   "outputs": [],
   "source": [
    "Questions = Posts.loc[Posts.PostTypeId == 1]"
   ]
  },
  {
   "cell_type": "markdown",
   "metadata": {},
   "source": [
    "#### Interpretacja zapytania dla ramki Questions"
   ]
  },
  {
   "cell_type": "markdown",
   "metadata": {},
   "source": [
    "Ramka danych Questions wyświetla wszystkie dostępne informacje o postach, dla których identyfikator typu danego postu jest równy 1."
   ]
  },
  {
   "cell_type": "code",
   "execution_count": 674,
   "metadata": {},
   "outputs": [
    {
     "data": {
      "text/html": [
       "<div>\n",
       "<style scoped>\n",
       "    .dataframe tbody tr th:only-of-type {\n",
       "        vertical-align: middle;\n",
       "    }\n",
       "\n",
       "    .dataframe tbody tr th {\n",
       "        vertical-align: top;\n",
       "    }\n",
       "\n",
       "    .dataframe thead th {\n",
       "        text-align: right;\n",
       "    }\n",
       "</style>\n",
       "<table border=\"1\" class=\"dataframe\">\n",
       "  <thead>\n",
       "    <tr style=\"text-align: right;\">\n",
       "      <th></th>\n",
       "      <th>Id</th>\n",
       "      <th>Title</th>\n",
       "      <th>MaxScore</th>\n",
       "      <th>AcceptedScore</th>\n",
       "      <th>Difference</th>\n",
       "    </tr>\n",
       "  </thead>\n",
       "  <tbody>\n",
       "    <tr>\n",
       "      <th>0</th>\n",
       "      <td>99713</td>\n",
       "      <td>In Germany, what are you supposed to do if you...</td>\n",
       "      <td>126</td>\n",
       "      <td>33</td>\n",
       "      <td>93</td>\n",
       "    </tr>\n",
       "    <tr>\n",
       "      <th>1</th>\n",
       "      <td>81376</td>\n",
       "      <td>What is way to eat rice with hands in front of...</td>\n",
       "      <td>120</td>\n",
       "      <td>30</td>\n",
       "      <td>90</td>\n",
       "    </tr>\n",
       "    <tr>\n",
       "      <th>2</th>\n",
       "      <td>76737</td>\n",
       "      <td>Why do many countries in the world still requi...</td>\n",
       "      <td>118</td>\n",
       "      <td>31</td>\n",
       "      <td>87</td>\n",
       "    </tr>\n",
       "    <tr>\n",
       "      <th>3</th>\n",
       "      <td>38177</td>\n",
       "      <td>How do you know if Americans genuinely/literal...</td>\n",
       "      <td>245</td>\n",
       "      <td>166</td>\n",
       "      <td>79</td>\n",
       "    </tr>\n",
       "    <tr>\n",
       "      <th>4</th>\n",
       "      <td>90636</td>\n",
       "      <td>Caught speeding 111 Mph (179 km/h) in Californ...</td>\n",
       "      <td>101</td>\n",
       "      <td>25</td>\n",
       "      <td>76</td>\n",
       "    </tr>\n",
       "    <tr>\n",
       "      <th>5</th>\n",
       "      <td>81492</td>\n",
       "      <td>Why is international first class much more exp...</td>\n",
       "      <td>90</td>\n",
       "      <td>21</td>\n",
       "      <td>69</td>\n",
       "    </tr>\n",
       "    <tr>\n",
       "      <th>6</th>\n",
       "      <td>94320</td>\n",
       "      <td>Strange looking region of France on Google Maps</td>\n",
       "      <td>71</td>\n",
       "      <td>7</td>\n",
       "      <td>64</td>\n",
       "    </tr>\n",
       "    <tr>\n",
       "      <th>7</th>\n",
       "      <td>80050</td>\n",
       "      <td>What's an easy way of making my luggage unique...</td>\n",
       "      <td>72</td>\n",
       "      <td>16</td>\n",
       "      <td>56</td>\n",
       "    </tr>\n",
       "  </tbody>\n",
       "</table>\n",
       "</div>"
      ],
      "text/plain": [
       "      Id                                              Title  MaxScore  \\\n",
       "0  99713  In Germany, what are you supposed to do if you...       126   \n",
       "1  81376  What is way to eat rice with hands in front of...       120   \n",
       "2  76737  Why do many countries in the world still requi...       118   \n",
       "3  38177  How do you know if Americans genuinely/literal...       245   \n",
       "4  90636  Caught speeding 111 Mph (179 km/h) in Californ...       101   \n",
       "5  81492  Why is international first class much more exp...        90   \n",
       "6  94320    Strange looking region of France on Google Maps        71   \n",
       "7  80050  What's an easy way of making my luggage unique...        72   \n",
       "\n",
       "   AcceptedScore  Difference  \n",
       "0             33          93  \n",
       "1             30          90  \n",
       "2             31          87  \n",
       "3            166          79  \n",
       "4             25          76  \n",
       "5             21          69  \n",
       "6              7          64  \n",
       "7             16          56  "
      ]
     },
     "execution_count": 674,
     "metadata": {},
     "output_type": "execute_result"
    }
   ],
   "source": [
    "Zlacz_BestAnswers_Questions = pd.merge(BestAnswers, Questions, how = \"inner\", left_on = \"ParentId\", right_on = \"Id\")[[\"Id_y\", \"Title\", \"MaxScore\", \"AcceptedAnswerId\"]].rename(columns = {\"Id_y\":\"Id\"})\n",
    "\n",
    "Zlacz_Posts_z_tamtym = pd.merge(Posts, Zlacz_BestAnswers_Questions, how = \"inner\", left_on = \"Id\", right_on = \"AcceptedAnswerId\")\n",
    "\n",
    "Zlacz_Posts_z_tamtym = Zlacz_Posts_z_tamtym.rename(columns = {\"Id_y\":\"Id\", \"Title_y\":\"Title\", \"Score\":\"AcceptedScore\"})\n",
    "\n",
    "Zlacz_Posts_z_tamtym[\"Difference\"] = Zlacz_Posts_z_tamtym.MaxScore - Zlacz_Posts_z_tamtym.AcceptedScore\n",
    "\n",
    "Zlacz_Posts_z_tamtym = Zlacz_Posts_z_tamtym.loc[Zlacz_Posts_z_tamtym.Difference > 50]\n",
    "\n",
    "Zlacz_Posts_z_tamtym = Zlacz_Posts_z_tamtym.sort_values(by = \"Difference\", ascending = False)\n",
    "\n",
    "Zlacz_Posts_z_tamtym = Zlacz_Posts_z_tamtym.rename(columns = {\"Score\":\"AcceptedScore\"})\n",
    "\n",
    "Zlacz_Posts_z_tamtym = Zlacz_Posts_z_tamtym.rename(columns = {\"Title_y\":\"Title\"})\n",
    "\n",
    "wyn_pandas_5 = Zlacz_Posts_z_tamtym.loc[:, [\"Id\", \"Title\", \"MaxScore\", \"AcceptedScore\", \"Difference\"]].reset_index(drop = True)\n",
    "\n",
    "wyn_pandas_5.head(10)"
   ]
  },
  {
   "cell_type": "markdown",
   "metadata": {},
   "source": [
    "#### Interpretacja zapytania dla ramki wynikowej"
   ]
  },
  {
   "cell_type": "markdown",
   "metadata": {},
   "source": [
    "W otrzymanej ramce danych wyświetlamy dla każdego tytułu o danym ID: najlepszy uzyskany wynik, wynik zaakceptowany oraz różnicę między wynikiem najlepszym, a zaakceptowanym."
   ]
  },
  {
   "cell_type": "markdown",
   "metadata": {},
   "source": [
    "#### Porównanie wyników"
   ]
  },
  {
   "cell_type": "code",
   "execution_count": 675,
   "metadata": {},
   "outputs": [
    {
     "data": {
      "text/plain": [
       "True"
      ]
     },
     "execution_count": 675,
     "metadata": {},
     "output_type": "execute_result"
    }
   ],
   "source": [
    "wyn_sql_5.equals(wyn_pandas_5)"
   ]
  },
  {
   "cell_type": "markdown",
   "metadata": {},
   "source": [
    "Stąd oba wyniki są tożsame."
   ]
  },
  {
   "cell_type": "markdown",
   "metadata": {},
   "source": [
    "#### Porównanie czasów obu rozwiązań."
   ]
  },
  {
   "cell_type": "markdown",
   "metadata": {},
   "source": [
    "##### a) Zapytanie SQL"
   ]
  },
  {
   "cell_type": "code",
   "execution_count": 676,
   "metadata": {},
   "outputs": [],
   "source": [
    "rozw_sql_5 = '''\n",
    "def fun_sql_5():\n",
    "    wyn_sql_5 = pd.read_sql_query(\"\"\"\n",
    "    SELECT\n",
    "        Questions.Id,\n",
    "        Questions.Title,\n",
    "        BestAnswers.MaxScore,\n",
    "        Posts.Score AS AcceptedScore,\n",
    "        BestAnswers.MaxScore - Posts.Score AS Difference\n",
    "    FROM (\n",
    "            SELECT Id, ParentId, MAX(Score) AS MaxScore\n",
    "            FROM Posts\n",
    "            WHERE PostTypeId == 2\n",
    "            GROUP BY ParentId\n",
    "        ) AS BestAnswers\n",
    "    JOIN (\n",
    "            SELECT * FROM Posts\n",
    "            WHERE PostTypeId == 1\n",
    "        ) AS Questions\n",
    "        ON Questions.Id = BestAnswers.ParentId\n",
    "    JOIN Posts ON Questions.AcceptedAnswerId = Posts.Id\n",
    "    WHERE Difference > 50\n",
    "    ORDER BY Difference DESC\n",
    "    \"\"\", conn)\n",
    "'''"
   ]
  },
  {
   "cell_type": "code",
   "execution_count": 677,
   "metadata": {},
   "outputs": [
    {
     "data": {
      "text/plain": [
       "0.06602390800002468"
      ]
     },
     "execution_count": 677,
     "metadata": {},
     "output_type": "execute_result"
    }
   ],
   "source": [
    "time_sql_5 = 0\n",
    "for i in range(100):\n",
    "    time_sql_5 = time_sql_5 + ti.timeit(stmt = rozw_sql_5)\n",
    "\n",
    "time_sql_5 = time_sql_5 / 100\n",
    "\n",
    "time_sql_5"
   ]
  },
  {
   "cell_type": "code",
   "execution_count": 678,
   "metadata": {},
   "outputs": [
    {
     "data": {
      "text/plain": [
       "'Czyli średni czas utworzenia ramki danych za pomocą zapytania SQL, to 0.06602390800002468 sekund.'"
      ]
     },
     "execution_count": 678,
     "metadata": {},
     "output_type": "execute_result"
    }
   ],
   "source": [
    "f\"Czyli średni czas utworzenia ramki danych za pomocą zapytania SQL, to {time_sql_5} sekund.\""
   ]
  },
  {
   "cell_type": "markdown",
   "metadata": {},
   "source": [
    "##### b) Rozwiązanie z pakietu \"pandas\""
   ]
  },
  {
   "cell_type": "code",
   "execution_count": 679,
   "metadata": {},
   "outputs": [],
   "source": [
    "rozw_pandas_5 = '''\n",
    "def fun_pandas_5():\n",
    "    Posts_z_TypeId_2 = Posts.loc[Posts.PostTypeId == 2]\n",
    "    Czesc_bez_Id = Posts_z_TypeId_2.groupby(\"ParentId\")[\"Score\"].agg(max).reset_index().rename(columns = {\"Score\":\"MaxScore\"})\n",
    "    BestAnswers = Czesc_bez_Id.merge(Posts_z_TypeId_2, how = \"inner\", right_on = [\"ParentId\", \"Score\"], \\\n",
    "    left_on = [\"ParentId\", \"MaxScore\"])[[\"Id\", \"ParentId\", \"MaxScore\"]]     \n",
    "    Questions = Posts.loc[Posts.PostTypeId == 1]\n",
    "    Zlacz_BestAnswers_Questions = pd.merge(BestAnswers, Questions, how = \"inner\", left_on = \"ParentId\", right_on = \"Id\")[[\"Id_y\", \"Title\", \"MaxScore\", \"AcceptedAnswerId\"]].rename(columns = {\"Id_y\":\"Id\"})\n",
    "    Zlacz_Posts_z_tamtym = pd.merge(Posts, Zlacz_BestAnswers_Questions, how = \"inner\", left_on = \"Id\", right_on = \"AcceptedAnswerId\")\n",
    "    Zlacz_Posts_z_tamtym = Zlacz_Posts_z_tamtym.rename(columns = {\"Id_y\":\"Id\", \"Title_y\":\"Title\", \"Score\":\"AcceptedScore\"})\n",
    "    Zlacz_Posts_z_tamtym[\"Difference\"] = Zlacz_Posts_z_tamtym.MaxScore - Zlacz_Posts_z_tamtym.AcceptedScore\n",
    "    Zlacz_Posts_z_tamtym = Zlacz_Posts_z_tamtym.loc[Zlacz_Posts_z_tamtym.Difference > 50]\n",
    "    Zlacz_Posts_z_tamtym = Zlacz_Posts_z_tamtym.sort_values(by = \"Difference\", ascending = False)\n",
    "    Zlacz_Posts_z_tamtym = Zlacz_Posts_z_tamtym.rename(columns = {\"Score\":\"AcceptedScore\"})\n",
    "    Zlacz_Posts_z_tamtym = Zlacz_Posts_z_tamtym.rename(columns = {\"Title_y\":\"Title\"})\n",
    "    wyn_pandas_5 = Zlacz_Posts_z_tamtym.loc[:, [\"Id\", \"Title\", \"MaxScore\", \"AcceptedScore\", \"Difference\"]].reset_index(drop = True)\n",
    "'''"
   ]
  },
  {
   "cell_type": "code",
   "execution_count": 680,
   "metadata": {},
   "outputs": [
    {
     "data": {
      "text/plain": [
       "0.08064109200022358"
      ]
     },
     "execution_count": 680,
     "metadata": {},
     "output_type": "execute_result"
    }
   ],
   "source": [
    "time_pandas_5 = 0\n",
    "for i in range(100):\n",
    "    time_pandas_5 = time_pandas_5 + ti.timeit(stmt = rozw_pandas_5)\n",
    "\n",
    "time_pandas_5 = time_pandas_5 / 100\n",
    "\n",
    "time_pandas_5"
   ]
  },
  {
   "cell_type": "code",
   "execution_count": 681,
   "metadata": {},
   "outputs": [
    {
     "data": {
      "text/plain": [
       "\"Czyli średni czas utworzenia ramki danych za pomocą pakietu 'pandas', to 0.08064109200022358 sekund.\""
      ]
     },
     "execution_count": 681,
     "metadata": {},
     "output_type": "execute_result"
    }
   ],
   "source": [
    "f\"Czyli średni czas utworzenia ramki danych za pomocą pakietu 'pandas', to {time_pandas_5} sekund.\""
   ]
  },
  {
   "cell_type": "code",
   "execution_count": 682,
   "metadata": {},
   "outputs": [
    {
     "data": {
      "text/plain": [
       "0.8187377720510236"
      ]
     },
     "execution_count": 682,
     "metadata": {},
     "output_type": "execute_result"
    }
   ],
   "source": [
    "time_sql_5 / time_pandas_5"
   ]
  },
  {
   "cell_type": "markdown",
   "metadata": {},
   "source": [
    "Zatem czas utworzenia ramki danych za pomocą pakietu \"pandas\" jest również zbliżony do czasu utworzenia ramki danych za pomocą zapytania SQL."
   ]
  },
  {
   "cell_type": "markdown",
   "metadata": {},
   "source": [
    "#### Podsumowanie odnośnie czasu tworzenia ramki danych za pomocą zapytania SQL w porównaniu do tworzenia ramki za pomocą pakietu \"pandas\""
   ]
  },
  {
   "cell_type": "markdown",
   "metadata": {},
   "source": [
    "Można zauważyć więc, że ogólnie, dla obu metod, czasy wykonania ramki danych, są zbliżone."
   ]
  },
  {
   "cell_type": "markdown",
   "metadata": {},
   "source": [
    "Po skończonej pracy zamykam połączenie następującą komendą:"
   ]
  },
  {
   "cell_type": "code",
   "execution_count": 683,
   "metadata": {},
   "outputs": [],
   "source": [
    "conn.close()"
   ]
  }
 ],
 "metadata": {
  "kernelspec": {
   "display_name": "Python 3",
   "language": "python",
   "name": "python3"
  },
  "language_info": {
   "codemirror_mode": {
    "name": "ipython",
    "version": 3
   },
   "file_extension": ".py",
   "mimetype": "text/x-python",
   "name": "python",
   "nbconvert_exporter": "python",
   "pygments_lexer": "ipython3",
   "version": "3.8.5"
  }
 },
 "nbformat": 4,
 "nbformat_minor": 4
}
